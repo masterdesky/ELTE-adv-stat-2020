{
 "cells": [
  {
   "cell_type": "markdown",
   "metadata": {},
   "source": [
    "1.\n",
    "Study the asymmetric tent map, namely the linear map with peak at $x=c$, $c\\neq0.5$\n",
    "- Draw the histogram of a large number of iterated values.\n",
    "- Calculate $\\lambda$ as time average or space average."
   ]
  },
  {
   "cell_type": "markdown",
   "metadata": {},
   "source": [
    "2.\n",
    "For the same map\n",
    "- Check that an iterated density converges to the invariant one.\n",
    "  For this purpose represent the density on a grid of x values.\n",
    "- Determine the second eigenvalue by subtracting the contribution\n",
    "  of the leading eigenfunction and rescaling the difference in each step."
   ]
  },
  {
   "cell_type": "markdown",
   "metadata": {},
   "source": [
    "3.\n",
    "For the same map\n",
    "- Study the decay of correlations. As a first try use $A(x)=x$."
   ]
  },
  {
   "cell_type": "markdown",
   "metadata": {},
   "source": [
    "4.\n",
    "Study the open asymmetric tent map which increases from 0 to 1 in [0,a] and decreases from 1 to 0 in [1-b,1].<br>\n",
    "You should take into account that using forward iteration the longer you iterate the more initial points are needed. You may use instead backward iteration, choosing one of the two branches randomly in each steps with proper probabilities. In this case you can find out the proper probabilities by studying the effect of the first few steps of iterations.\n",
    "- Draw the repeller as a histogram of the distribution, and draw the cumulative distribution function.\n",
    "- Calculate the fractal dimension."
   ]
  }
 ],
 "metadata": {
  "anaconda-cloud": {},
  "kernelspec": {
   "display_name": "Python 3 (ipykernel)",
   "language": "python",
   "name": "python3"
  },
  "language_info": {
   "codemirror_mode": {
    "name": "ipython",
    "version": 3
   },
   "file_extension": ".py",
   "mimetype": "text/x-python",
   "name": "python",
   "nbconvert_exporter": "python",
   "pygments_lexer": "ipython3",
   "version": "3.9.10"
  }
 },
 "nbformat": 4,
 "nbformat_minor": 4
}
