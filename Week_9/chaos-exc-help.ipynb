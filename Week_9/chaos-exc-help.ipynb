{
 "cells": [
  {
   "cell_type": "code",
   "execution_count": null,
   "metadata": {},
   "outputs": [],
   "source": [
    "# Hints for question 2\n",
    "#\n",
    "# how to calculate the evolution of a probability density\n",
    "# by the Frobenius-Perron operator of the asymmetric tent map\n",
    "#\n",
    "# the map is linear with peak at x=c\n",
    "# you can make a drawing for yourself and find that\n",
    "# the maps has 1/c slope in the left branch and -1/(1-c) slope in the right one, i.e.\n",
    "# f(x)=x/c         in [0,c]\n",
    "# f(x)=(1-x)/(1-c) in [c,1]"
   ]
  },
  {
   "cell_type": "code",
   "execution_count": null,
   "metadata": {},
   "outputs": [],
   "source": [
    "%pylab inline"
   ]
  },
  {
   "cell_type": "code",
   "execution_count": null,
   "metadata": {},
   "outputs": [],
   "source": [
    "c=0.61                # an arbitrary value for the parameter of the map\n",
    "# we want to generate gridpoints  x_k=k/n, k=0,1,2,...,n\n",
    "n=1000                # the largest gridpoint index\n",
    "x=linspace(0,1,n+1)   # the gridpoints\n",
    "p0=linspace(0,2,n+1)  # the list of the values of an initial density at the grid points"
   ]
  },
  {
   "cell_type": "code",
   "execution_count": null,
   "metadata": {},
   "outputs": [],
   "source": [
    "p1=zeros(n+1)          # create a list where the values of the resulting density will be stored\n",
    "\n",
    "for i in range(n+1):             # i.e. i=0,1,2,...,n\n",
    "    j=round(i*c)                 # left preimage index\n",
    "    k=round(n-i*(1-c))           # right preimage index\n",
    "    p1[i]=p0[j]*c + p0[k]*(1-c)  # the sum of the contribution of the two branches"
   ]
  },
  {
   "cell_type": "code",
   "execution_count": null,
   "metadata": {},
   "outputs": [],
   "source": [
    "plot(x,p0,x,p1)"
   ]
  },
  {
   "cell_type": "code",
   "execution_count": null,
   "metadata": {},
   "outputs": [],
   "source": [
    "# The limiting probability density is a constant 1.\n",
    "# Here we can already see that p1 is closer to the limiting one than p0.\n",
    "\n",
    "# Suggestions\n",
    "#   for more convenient use create a function from these lines\n",
    "#   which calculates the action of the Frobenius-Perron operator\n",
    "#   and then iterate it several times and check the decay of the slope"
   ]
  }
 ],
 "metadata": {
  "anaconda-cloud": {},
  "kernelspec": {
   "display_name": "Python 3 (ipykernel)",
   "language": "python",
   "name": "python3"
  },
  "language_info": {
   "codemirror_mode": {
    "name": "ipython",
    "version": 3
   },
   "file_extension": ".py",
   "mimetype": "text/x-python",
   "name": "python",
   "nbconvert_exporter": "python",
   "pygments_lexer": "ipython3",
   "version": "3.9.10"
  }
 },
 "nbformat": 4,
 "nbformat_minor": 4
}
