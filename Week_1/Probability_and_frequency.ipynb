{
 "cells": [
  {
   "cell_type": "code",
   "execution_count": null,
   "metadata": {},
   "outputs": [],
   "source": [
    "import math\n",
    "import numpy as np\n",
    "\n",
    "import seaborn as sns\n",
    "import matplotlib as mpl\n",
    "import matplotlib.cm as cm\n",
    "import matplotlib.pyplot as plt"
   ]
  },
  {
   "cell_type": "code",
   "execution_count": null,
   "metadata": {},
   "outputs": [],
   "source": [
    "out = '.\\\\out\\\\'\n",
    "figsave_format = 'pdf'\n",
    "figsave_dpi = 200\n",
    "\n",
    "# Set axtick dimensions\n",
    "major_size = 6\n",
    "major_width = 1.2\n",
    "minor_size = 3\n",
    "minor_width = 1\n",
    "mpl.rcParams['xtick.major.size'] = major_size\n",
    "mpl.rcParams['xtick.major.width'] = major_width\n",
    "mpl.rcParams['xtick.minor.size'] = minor_size\n",
    "mpl.rcParams['xtick.minor.width'] = minor_width\n",
    "mpl.rcParams['ytick.major.size'] = major_size\n",
    "mpl.rcParams['ytick.major.width'] = major_width\n",
    "mpl.rcParams['ytick.minor.size'] = minor_size\n",
    "mpl.rcParams['ytick.minor.width'] = minor_width\n",
    "\n",
    "# Seaborn style settings\n",
    "sns.set_style({'axes.axisbelow': True,\n",
    "               'axes.edgecolor': '.8',\n",
    "               'axes.facecolor': 'white',\n",
    "               'axes.grid': True,\n",
    "               'axes.labelcolor': '.15',\n",
    "               'axes.spines.bottom': True,\n",
    "               'axes.spines.left': True,\n",
    "               'axes.spines.right': True,\n",
    "               'axes.spines.top': True,\n",
    "               'figure.facecolor': 'white',\n",
    "               'font.family': ['sans-serif'],\n",
    "               'font.sans-serif': ['Arial',\n",
    "                'DejaVu Sans',\n",
    "                'Liberation Sans',\n",
    "                'Bitstream Vera Sans',\n",
    "                'sans-serif'],\n",
    "               'grid.color': '.8',\n",
    "               'grid.linestyle': '--',\n",
    "               'image.cmap': 'rocket',\n",
    "               'lines.solid_capstyle': 'round',\n",
    "               'patch.edgecolor': 'w',\n",
    "               'patch.force_edgecolor': True,\n",
    "               'text.color': '.15',\n",
    "               'xtick.bottom': True,\n",
    "               'xtick.color': '.15',\n",
    "               'xtick.direction': 'in',\n",
    "               'xtick.top': True,\n",
    "               'ytick.color': '.15',\n",
    "               'ytick.direction': 'in',\n",
    "               'ytick.left': True,\n",
    "               'ytick.right': True})"
   ]
  },
  {
   "cell_type": "markdown",
   "metadata": {},
   "source": [
    "# Probability and freqency"
   ]
  },
  {
   "cell_type": "markdown",
   "metadata": {},
   "source": [
    "One common interpretation of probability is related to the frequency of events. In this approach, the $P(A)$ probability of event $A$ is the long run proportion of times $A$ is true in independent repetitions of the same experiment. E.g., the probability $1/2$ for heads in case of coin tosses means that if we flip the coin many times, then the proportion of flips where the outcome was heads tends to $1/2$ in the long run. Of course, an infinitely long, unpredictable sequence of tosses with a converging limit proportion of heads is an idealisation just like the idea of a straight line in geometry."
   ]
  },
  {
   "cell_type": "markdown",
   "metadata": {},
   "source": [
    "## Coin tossing"
   ]
  },
  {
   "cell_type": "markdown",
   "metadata": {},
   "source": [
    "Let's \"simulate\" coin tossing with some probability $p$, and plot the frequency of heads as a function of the trials. "
   ]
  },
  {
   "cell_type": "markdown",
   "metadata": {},
   "source": [
    "The parameters of our experiment:"
   ]
  },
  {
   "cell_type": "code",
   "execution_count": null,
   "metadata": {},
   "outputs": [],
   "source": [
    "num_of_tosses = 1000    # we are going to toss the coin this many times...\n",
    "p_head = 0.2            # this is the probability for heads"
   ]
  },
  {
   "cell_type": "markdown",
   "metadata": {},
   "source": [
    "Let's use numpy's random generator for generating random numbers between 0 and 1"
   ]
  },
  {
   "cell_type": "code",
   "execution_count": null,
   "metadata": {},
   "outputs": [],
   "source": [
    "random_values = np.random.random(num_of_tosses)  # this will put the generated random numbers in a numpy array.\n",
    "#print(random_values)"
   ]
  },
  {
   "cell_type": "markdown",
   "metadata": {},
   "source": [
    "We can convert the generated real numbers $r_i$ into 'heads' (indicated by $h_i=1$) and 'tails' (indicated by $h_i=0$) simply as follows:\n",
    "- $h_i = 1$ if $r_i < p_{\\rm head}$\n",
    "- $h_i = 0$ if $r_i \\geq p_{\\rm head}$."
   ]
  },
  {
   "cell_type": "code",
   "execution_count": null,
   "metadata": {},
   "outputs": [],
   "source": [
    "heads_and_tails = [ 1 if rv < p_head else 0 for rv in random_values] # we apply the conversion rule.\n",
    "#print(heads_and_tails)"
   ]
  },
  {
   "cell_type": "markdown",
   "metadata": {},
   "source": [
    "Now we can simply produce a list containing the sum of heads up to a given number of tosses."
   ]
  },
  {
   "cell_type": "code",
   "execution_count": null,
   "metadata": {},
   "outputs": [],
   "source": [
    "sum_of_heads = [np.sum(heads_and_tails[:idx+1]) for idx, _ in enumerate(heads_and_tails)]\n",
    "#print(sum_of_heads)"
   ]
  },
  {
   "cell_type": "markdown",
   "metadata": {},
   "source": [
    "With a slight change in the code, we can also list the frequency of heads, measured among the tosses up to a given number of tosses."
   ]
  },
  {
   "cell_type": "code",
   "execution_count": null,
   "metadata": {},
   "outputs": [],
   "source": [
    "freq_of_heads = [np.sum(heads_and_tails[:idx+1])/(idx+1) for idx, _ in enumerate(heads_and_tails)]\n",
    "#print(freq_of_heads)"
   ]
  },
  {
   "cell_type": "markdown",
   "metadata": {},
   "source": [
    "Let us now plot the frequency of heads as a function of the number of tosses. This is the quantity which in theory should converge to the probability of heads. Let's also plot this on a graph with logarithmic X-axis."
   ]
  },
  {
   "cell_type": "code",
   "execution_count": null,
   "metadata": {},
   "outputs": [],
   "source": [
    "# this is just a simple list of numbers from 1 to the total number of tosses\n",
    "x = np.arange(1, len(heads_and_tails)+1)\n",
    "\n",
    "nrows = 1\n",
    "ncols = 2\n",
    "fig, axes = plt.subplots(nrows=nrows, ncols=ncols, figsize=(ncols*10, nrows*8))\n",
    "\n",
    "axislabelsize = 18\n",
    "axisticksize = 15\n",
    "\n",
    "for i in range(ncols):\n",
    "    axes[i].plot(x, freq_of_heads)\n",
    "    \n",
    "    axes[i].axhline(y=p_head, color='tab:red')\n",
    "    \n",
    "    axes[i].set_xlabel('Number of tosses', fontsize=axislabelsize)\n",
    "    axes[i].set_ylabel('Frequency of heads', fontsize=axislabelsize)\n",
    "    axes[i].tick_params(axis='both', which='major', labelsize=axisticksize)\n",
    "\n",
    "    axes[i].set_ylim(0,1)\n",
    "\n",
    "# Extra conditions\n",
    "axes[1].set_xscale('log')\n",
    "    \n",
    "plt.show()"
   ]
  },
  {
   "cell_type": "markdown",
   "metadata": {},
   "source": [
    "Now let us plot the sum of heads as a function of the number of tosses."
   ]
  },
  {
   "cell_type": "code",
   "execution_count": null,
   "metadata": {},
   "outputs": [],
   "source": [
    "# this is just a simple list of numbers from 1 to the total number of tosses\n",
    "x = np.arange(1, len(heads_and_tails)+1)\n",
    "expected = [exp * p_head for exp in x]\n",
    "\n",
    "nrows = 1\n",
    "ncols = 1\n",
    "fig, axes = plt.subplots(nrows=nrows, ncols=ncols, figsize=(ncols*10, nrows*8))\n",
    "\n",
    "axislabelsize = 18\n",
    "axisticksize = 15\n",
    "\n",
    "axes.plot(x, sum_of_heads)\n",
    "axes.plot(x, expected)\n",
    "\n",
    "axes.axhline(y=p_head * len(sum_of_heads), color='tab:red')\n",
    "\n",
    "axes.set_xlabel('Number of tosses', fontsize=axislabelsize)\n",
    "axes.set_ylabel('Sum. of heads', fontsize=axislabelsize)\n",
    "axes.tick_params(axis='both', which='major', labelsize=axisticksize)\n",
    "\n",
    "plt.show()"
   ]
  },
  {
   "cell_type": "markdown",
   "metadata": {},
   "source": [
    "## Dice rolling"
   ]
  },
  {
   "cell_type": "markdown",
   "metadata": {},
   "source": [
    "Let us \"simulate\" dice rolling with a fair dice for a simple illustration of conditional probability. "
   ]
  },
  {
   "cell_type": "code",
   "execution_count": null,
   "metadata": {},
   "outputs": [],
   "source": [
    "num_rolls = 1000"
   ]
  },
  {
   "cell_type": "code",
   "execution_count": null,
   "metadata": {},
   "outputs": [],
   "source": [
    "rolls = np.random.randint(1,7,num_rolls) #this generates random integers in [1,6].\n",
    "#print(rolls)"
   ]
  },
  {
   "cell_type": "markdown",
   "metadata": {},
   "source": [
    "Let us define events. These can be represented by sets (technically lists) of numbers."
   ]
  },
  {
   "cell_type": "code",
   "execution_count": null,
   "metadata": {},
   "outputs": [],
   "source": [
    "event_A = [2,4,3]\n",
    "event_B = [1,2,4]"
   ]
  },
  {
   "cell_type": "markdown",
   "metadata": {},
   "source": [
    "Now let us prepare indicators signalling whether the given event was true or false at a given roll."
   ]
  },
  {
   "cell_type": "code",
   "execution_count": null,
   "metadata": {},
   "outputs": [],
   "source": [
    "A_indicator = [1 if roll in event_A else 0 for roll in rolls] # 1 if event A is true, 0 otherwise.\n",
    "B_indicator = [1 if roll in event_B else 0 for roll in rolls] # 1 if event B is true, 0 otherwise.\n",
    "AB_indicator = [1 if (roll in event_A) and (roll in event_B) else 0 for roll in rolls]\n",
    "#print(A_indicator)\n",
    "#print(B_indicator)\n",
    "#print(AB_indicator)"
   ]
  },
  {
   "cell_type": "markdown",
   "metadata": {},
   "source": [
    "We can calculate the frequencies the same as in case of coin flipping."
   ]
  },
  {
   "cell_type": "code",
   "execution_count": null,
   "metadata": {},
   "outputs": [],
   "source": [
    "freq_of_A = [np.sum(A_indicator[:idx+1])/(idx+1) for idx, _ in enumerate(A_indicator)]\n",
    "freq_of_B = [np.sum(B_indicator[:idx+1])/(idx+1) for idx, _ in enumerate(B_indicator)]\n",
    "freq_of_AB = [np.sum(AB_indicator[:idx+1])/(idx+1) for idx, _ in enumerate(AB_indicator)]"
   ]
  },
  {
   "cell_type": "markdown",
   "metadata": {},
   "source": [
    "The theoretical probabilities are simply the relative sizes of the sets (technically lists)."
   ]
  },
  {
   "cell_type": "code",
   "execution_count": null,
   "metadata": {},
   "outputs": [],
   "source": [
    "p_A = len(event_A)/6.0\n",
    "p_B = len(event_B)/6.0"
   ]
  },
  {
   "cell_type": "markdown",
   "metadata": {},
   "source": [
    "Let us plot the observed frequencies, and the probabilities, where for $P(AB)$ we assume independence. "
   ]
  },
  {
   "cell_type": "code",
   "execution_count": null,
   "metadata": {},
   "outputs": [],
   "source": [
    "# this is just a simple list of numbers from 1 to the total number of tosses\n",
    "x = np.arange(1, len(rolls)+1)\n",
    "\n",
    "nrows = 1\n",
    "ncols = 2\n",
    "fig, axes = plt.subplots(nrows=nrows, ncols=ncols, figsize=(ncols*10, nrows*8))\n",
    "\n",
    "axislabelsize = 18\n",
    "axisticksize = 15\n",
    "\n",
    "colors = [\n",
    "    'tab:red',\n",
    "    'tab:blue',\n",
    "    'tab:green'\n",
    "]\n",
    "\n",
    "for i in range(ncols):\n",
    "    axes[i].plot(x, freq_of_A,label = 'A is true', c=colors[0])\n",
    "    axes[i].plot(x, freq_of_B,label = 'B is true', c=colors[1])\n",
    "    axes[i].plot(x, freq_of_AB,label = 'AB is true', c=colors[2])\n",
    "    \n",
    "    axes[i].axhline(y=p_A, c=colors[0], alpha=0.5)\n",
    "    axes[i].axhline(y=p_B, c=colors[1], alpha=0.5)\n",
    "    axes[i].axhline(y=p_A*p_B, c=colors[2], alpha=0.5) # for indepencent events we can multiply the probabilities.\n",
    "    \n",
    "    axes[i].set_xlabel('Number of rolls', fontsize=axislabelsize)\n",
    "    axes[i].set_ylabel('Frequency', fontsize=axislabelsize)\n",
    "    axes[i].tick_params(axis='both', which='major', labelsize=axisticksize)\n",
    "\n",
    "    axes[i].set_ylim(0,1)\n",
    "\n",
    "# Extra conditions\n",
    "axes[1].set_xscale('log')\n",
    "    \n",
    "plt.show()"
   ]
  },
  {
   "cell_type": "code",
   "execution_count": null,
   "metadata": {},
   "outputs": [],
   "source": []
  }
 ],
 "metadata": {
  "kernelspec": {
   "display_name": "Python 3 (ipykernel)",
   "language": "python",
   "name": "python3"
  },
  "language_info": {
   "codemirror_mode": {
    "name": "ipython",
    "version": 3
   },
   "file_extension": ".py",
   "mimetype": "text/x-python",
   "name": "python",
   "nbconvert_exporter": "python",
   "pygments_lexer": "ipython3",
   "version": "3.9.10"
  }
 },
 "nbformat": 4,
 "nbformat_minor": 4
}
