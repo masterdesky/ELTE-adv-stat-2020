{
 "cells": [
  {
   "cell_type": "markdown",
   "metadata": {},
   "source": [
    "# Assignment 3\n",
    "\n",
    "Assume a coin tossing experiment, where the probability of heads is $ p $. Let $X$ denote the number of heads, and $Y$ denote the number of tails.  \n",
    "- a) Prove that $X$ and $Y$ are dependent.\n",
    "- b) Assume that $N\\sim$ Poisson $(\\lambda)$ and we toss the coin $N$ times. Again, let $X$ denote the number of heads, and $Y$ denote the number of tails. Show that in this case $X$ and $Y$ are independent."
   ]
  },
  {
   "cell_type": "markdown",
   "metadata": {},
   "source": [
    "## Solution of a)\n",
    "\n",
    "If $P \\left( \\text{Head} \\right) = p$, we can be sure, that $P \\left( \\text{Tails} \\right) = 1 - p$. The distribution of the number of heads and tails will be also dependent in this case, because its value is always dependent on the previous tosses."
   ]
  },
  {
   "cell_type": "code",
   "execution_count": null,
   "metadata": {},
   "outputs": [],
   "source": []
  }
 ],
 "metadata": {
  "kernelspec": {
   "display_name": "Python 3",
   "language": "python",
   "name": "python3"
  },
  "language_info": {
   "codemirror_mode": {
    "name": "ipython",
    "version": 3
   },
   "file_extension": ".py",
   "mimetype": "text/x-python",
   "name": "python",
   "nbconvert_exporter": "python",
   "pygments_lexer": "ipython3",
   "version": "3.7.6"
  }
 },
 "nbformat": 4,
 "nbformat_minor": 4
}
