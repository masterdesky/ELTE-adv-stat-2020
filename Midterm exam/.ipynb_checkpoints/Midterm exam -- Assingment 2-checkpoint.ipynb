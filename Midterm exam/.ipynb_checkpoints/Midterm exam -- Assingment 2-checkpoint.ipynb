{
 "cells": [
  {
   "cell_type": "markdown",
   "metadata": {},
   "source": [
    "# Assingment 2\n",
    "\n",
    "Suppose we develop a large computer program, where the code is divided into \\\\(n=100\\\\) different functions (or modules). Let \\\\(X_i\\\\) denote the number of bugs in the \\\\(i^{\\rm th}\\\\) module, and assume that they are independent and follow a Poisson distribution with a mean value of 1. Let \\\\(Y=\\sum X_i\\\\) be the total number of bugs in the code. Use the central limit theorem to approximate \\\\(P(Y<90)\\\\)."
   ]
  },
  {
   "cell_type": "code",
   "execution_count": 32,
   "metadata": {},
   "outputs": [],
   "source": [
    "n = 100\n",
    "mean = 1\n",
    "z = 90"
   ]
  },
  {
   "cell_type": "markdown",
   "metadata": {},
   "source": [
    "Defining $Z_{n}$:\n",
    "\n",
    "$$\n",
    "Z_n\n",
    "=\n",
    "\\frac{\\left(\\sum_{i=1}^n X_i\\right) -n\\mu}{\\sqrt{n}\\sigma}\n",
    "=\n",
    "\\frac{\\frac{1}{n}\\left(\\sum_{i=1}^n X_i\\right) - \\mu}{\\sigma/\\sqrt{n}}\n",
    "=\n",
    "\\frac{\\sqrt{n}\\left(\\overline{X_n}-\\mu\\right)}{\\sigma}\n",
    "$$\n",
    "\n",
    "Also according to the CLF:\n",
    "\n",
    "$$\n",
    "\\lim_{n \\to \\infty} P \\left( Z_{n} < z \\right)\n",
    "=\n",
    "\\frac{1}{\\sqrt{2 \\pi}} \\int_{- \\infty}^{z} e^{\\frac{-x^{2}}{2}}\\,\\text{d}x \n",
    "$$"
   ]
  },
  {
   "cell_type": "code",
   "execution_count": 46,
   "metadata": {},
   "outputs": [],
   "source": [
    "import numpy as np"
   ]
  },
  {
   "cell_type": "markdown",
   "metadata": {},
   "source": [
    "Here calculate the following:\n",
    "\n",
    "$$\n",
    "P \\left( Z_{n} < z \\right)\n",
    "=\n",
    "P \\left( Y < 90 \\right)\n",
    "$$"
   ]
  },
  {
   "cell_type": "code",
   "execution_count": 47,
   "metadata": {},
   "outputs": [],
   "source": [
    "step = 0.01\n",
    "lim_P = 1/np.sqrt(2*np.pi) * np.sum([np.exp(-n**2/2) for n in np.arange(-100,z,step)]) * step"
   ]
  },
  {
   "cell_type": "code",
   "execution_count": 48,
   "metadata": {},
   "outputs": [
    {
     "name": "stdout",
     "output_type": "stream",
     "text": [
      "Approximately lim P(Z_n < 90) = 0.9999999999994885\n"
     ]
    }
   ],
   "source": [
    "print('Approximately lim P(Z_n < 90) = {0}'.format(lim_P))"
   ]
  },
  {
   "cell_type": "markdown",
   "metadata": {},
   "source": [
    "Which values is approximately 1. So we can be almost sure, that there are less, than 90 bugs in the code."
   ]
  },
  {
   "cell_type": "code",
   "execution_count": null,
   "metadata": {},
   "outputs": [],
   "source": []
  }
 ],
 "metadata": {
  "kernelspec": {
   "display_name": "Python 3",
   "language": "python",
   "name": "python3"
  },
  "language_info": {
   "codemirror_mode": {
    "name": "ipython",
    "version": 3
   },
   "file_extension": ".py",
   "mimetype": "text/x-python",
   "name": "python",
   "nbconvert_exporter": "python",
   "pygments_lexer": "ipython3",
   "version": "3.7.6"
  }
 },
 "nbformat": 4,
 "nbformat_minor": 4
}
