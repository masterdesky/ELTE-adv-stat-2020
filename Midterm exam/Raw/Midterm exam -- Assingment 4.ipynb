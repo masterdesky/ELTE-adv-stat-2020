{
 "cells": [
  {
   "cell_type": "markdown",
   "metadata": {},
   "source": [
    "# Assignment 4\n",
    "\n",
    "Students were writing feedback about a seminar presentation. The submission times are given in the mle_mm.xlsx file. Estimate the time, when the presentation finished, if the students had been asked to give their feedback during the presentation! The probability density of submission times follow the probability density \\\\(p(x)=A (x-0.51)\\\\), where \\\\(A\\\\) is a paramter.\n",
    "\n",
    "Hint: try with Maximum Likelihood Estimation and Method of Moments!\n",
    "\n",
    "Note: start to write down a sketch of the solution on a sheet of paper or in a notebook markdown cell. You will earn half of the points, if you work out a full solution plan with all necessary formulae. The rest of the points are given for the implementation and calculations. "
   ]
  },
  {
   "cell_type": "code",
   "execution_count": null,
   "metadata": {},
   "outputs": [],
   "source": []
  }
 ],
 "metadata": {
  "kernelspec": {
   "display_name": "Python 3",
   "language": "python",
   "name": "python3"
  },
  "language_info": {
   "codemirror_mode": {
    "name": "ipython",
    "version": 3
   },
   "file_extension": ".py",
   "mimetype": "text/x-python",
   "name": "python",
   "nbconvert_exporter": "python",
   "pygments_lexer": "ipython3",
   "version": "3.7.6"
  }
 },
 "nbformat": 4,
 "nbformat_minor": 4
}
