{
 "cells": [
  {
   "cell_type": "markdown",
   "metadata": {},
   "source": [
    "# Assingment 2\n",
    "\n",
    "Suppose we develop a large computer program, where the code is divided into \\\\(n=100\\\\) different functions (or modules). Let \\\\(X_i\\\\) denote the number of bugs in the \\\\(i^{\\rm th}\\\\) module, and assume that they are independent and follow a Poisson distribution with a mean value of 1. Let \\\\(Y=\\sum X_i\\\\) be the total number of bugs in the code. Use the central limit theorem to approximate \\\\(P(Y<90)\\\\)."
   ]
  },
  {
   "cell_type": "code",
   "execution_count": null,
   "metadata": {},
   "outputs": [],
   "source": []
  }
 ],
 "metadata": {
  "kernelspec": {
   "display_name": "Python 3",
   "language": "python",
   "name": "python3"
  },
  "language_info": {
   "codemirror_mode": {
    "name": "ipython",
    "version": 3
   },
   "file_extension": ".py",
   "mimetype": "text/x-python",
   "name": "python",
   "nbconvert_exporter": "python",
   "pygments_lexer": "ipython3",
   "version": "3.7.6"
  }
 },
 "nbformat": 4,
 "nbformat_minor": 4
}
