{
 "cells": [
  {
   "cell_type": "markdown",
   "metadata": {},
   "source": [
    "# Assignment 4\n",
    "\n",
    "Students were writing feedback about a seminar presentation. The submission times are given in the mle_mm.xlsx file. Estimate the time, when the presentation finished, if the students had been asked to give their feedback during the presentation! The probability density of submission times follow the probability density \\\\(p(x)=A (x-0.51)\\\\), where \\\\(A\\\\) is a paramter.\n",
    "\n",
    "Hint: try with Maximum Likelihood Estimation and Method of Moments!\n",
    "\n",
    "Note: start to write down a sketch of the solution on a sheet of paper or in a notebook markdown cell. You will earn half of the points, if you work out a full solution plan with all necessary formulae. The rest of the points are given for the implementation and calculations. "
   ]
  },
  {
   "cell_type": "code",
   "execution_count": 2,
   "metadata": {},
   "outputs": [],
   "source": [
    "import numpy as np\n",
    "import pandas as pd\n",
    "\n",
    "import seaborn as sns\n",
    "import matplotlib as mpl\n",
    "import matplotlib.cm as cm\n",
    "import matplotlib.pyplot as plt"
   ]
  },
  {
   "cell_type": "code",
   "execution_count": 11,
   "metadata": {},
   "outputs": [],
   "source": [
    "file = pd.read_csv('mle_mm.csv')"
   ]
  },
  {
   "cell_type": "code",
   "execution_count": 12,
   "metadata": {},
   "outputs": [],
   "source": [
    "column = 'sumission time in day (1=24 hours)'"
   ]
  },
  {
   "cell_type": "code",
   "execution_count": 22,
   "metadata": {},
   "outputs": [],
   "source": [
    "sub_times_h = np.array(file[column].values*24, dtype='int')\n",
    "sub_times_m = (file[column].values*24 - 12) * 60"
   ]
  },
  {
   "cell_type": "code",
   "execution_count": 23,
   "metadata": {},
   "outputs": [
    {
     "data": {
      "text/plain": [
       "array([12, 12, 12, 13, 12, 12, 12, 12, 12, 13, 12, 12, 12, 12, 12, 12, 12,\n",
       "       12, 12, 12, 12, 12, 12, 12, 13, 12, 12, 12, 12, 12, 12, 12, 12, 12,\n",
       "       12, 12, 12, 12, 12, 12, 12, 12, 12, 12, 12, 12, 12, 12])"
      ]
     },
     "execution_count": 23,
     "metadata": {},
     "output_type": "execute_result"
    }
   ],
   "source": [
    "sub_times_h"
   ]
  },
  {
   "cell_type": "code",
   "execution_count": 24,
   "metadata": {},
   "outputs": [
    {
     "data": {
      "text/plain": [
       "array([31.00000032, 20.99999952, 26.00000064, 71.00000064, 24.99999984,\n",
       "       26.00000064, 26.00000064, 18.99999936, 42.00000048, 62.00000064,\n",
       "       20.99999952, 20.99999952, 20.99999952, 51.99999984, 18.99999936,\n",
       "       38.99999952, 58.99999968, 40.99999968, 20.99999952, 20.99999952,\n",
       "       24.00000048, 54.24999984, 21.24999936, 41.24999952, 61.24999968,\n",
       "       43.24999968, 23.24999952, 23.24999952, 26.25000048, 21.83333328,\n",
       "       36.83333376, 56.83333392, 25.8333336 , 26.83333296, 26.83333296,\n",
       "       32.33333376, 28.33333344, 53.33333328, 32.33333376, 30.3333336 ,\n",
       "       29.3333328 , 29.3333328 , 27.33333264, 30.3333336 , 48.3333336 ,\n",
       "       27.33333264, 30.3333336 , 31.33333296])"
      ]
     },
     "execution_count": 24,
     "metadata": {},
     "output_type": "execute_result"
    }
   ],
   "source": [
    "sub_times_m"
   ]
  },
  {
   "cell_type": "code",
   "execution_count": null,
   "metadata": {},
   "outputs": [],
   "source": []
  }
 ],
 "metadata": {
  "kernelspec": {
   "display_name": "Python 3",
   "language": "python",
   "name": "python3"
  },
  "language_info": {
   "codemirror_mode": {
    "name": "ipython",
    "version": 3
   },
   "file_extension": ".py",
   "mimetype": "text/x-python",
   "name": "python",
   "nbconvert_exporter": "python",
   "pygments_lexer": "ipython3",
   "version": "3.7.6"
  }
 },
 "nbformat": 4,
 "nbformat_minor": 4
}
