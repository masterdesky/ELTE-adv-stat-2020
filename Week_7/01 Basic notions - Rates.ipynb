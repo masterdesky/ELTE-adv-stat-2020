{
 "cells": [
  {
   "cell_type": "markdown",
   "metadata": {},
   "source": [
    "# Time value of money"
   ]
  },
  {
   "cell_type": "markdown",
   "metadata": {},
   "source": [
    "## Units\n",
    "* money is measured in units of, for example, USD, EUR, etc.\n",
    "* time is measured in units of 1 year\n",
    "\n",
    "Sometimes units are not written, so $\\,T=1\\,$ means one year, and $\\,1\\,$ unit of money means, for example, $\\,1\\,$ USD."
   ]
  },
  {
   "cell_type": "markdown",
   "metadata": {},
   "source": [
    "## Discount Factor\n",
    "You and me set up a contract that starts now and ends at $\\,T\\,$:\n",
    "* Right now (at time $\\,t=0)\\,$ I give you a fixed amount of USD\n",
    "* In return, at time $\\,t=T\\,$ you will pay me $\\,1\\,$ USD\n",
    "\n",
    "#### To make this a fair contract, how much should I give you now ?\n",
    "\n",
    "Let us denote by $\\,P\\,(\\,T\\,)\\,$ the amount I should give you now. This number is called the Discount Factor in our contract.\n",
    "\n",
    "Note that $\\,P\\,(\\,0\\,)=1\\,$.\n",
    "\n",
    "#### What does this discount factor depend on ?\n",
    "\n",
    "* the currency $\\,\\rightarrow\\,$ _for example, USD pays differently from CHF_\n",
    "* the time span $\\,T\\,$ $\\,\\rightarrow\\,$ _for example, $\\,T=1\\,$ is different from $\\,T=5\\,$_\n",
    "* and many others, for example, you may not be able to pay me the agreed $\\,1\\,$ USD at $\\,T\\,$ <br/>this means the probability that you'll actually pay is somewhere between 0 and 1\n",
    " \n",
    "#### Present Value\n",
    "\n",
    "In our contract the Present Value (also called PV) of the $\\,1\\,$ USD you agree to pay me is the above mentioned $\\,P\\,$.\n",
    "\n",
    "Usually the probability that you will pay (and other similar risk items) are considered separately from $\\,P\\,$."
   ]
  },
  {
   "cell_type": "markdown",
   "metadata": {},
   "source": [
    "### Question: PV of a fixed leg\n",
    "\n",
    "We agree that\n",
    "* You will pay me 20 separate payments of $\\,1\\,$ USD at the end of years $\\,1, 2, \\dots, 20\\,$ from now\n",
    "* In return, you receive now a single payment.\n",
    "\n",
    "If the yearly discount factor will always be $\\,0.98\\,$, then what current payment value makes this a fair contract ?"
   ]
  },
  {
   "cell_type": "code",
   "execution_count": null,
   "metadata": {},
   "outputs": [],
   "source": [
    "# This DF is the yearly Discount Factor. In the current question this DF is a constant.\n",
    "DF = 0.98\n",
    "\n",
    "# This PV is the amount that I give you now in return for your 20 separate payments of 1 USD at t = 1, 2, ... , 20\n",
    "# PV = <WRITE YOUR SOLUTION HERE>  "
   ]
  },
  {
   "cell_type": "markdown",
   "metadata": {},
   "source": [
    "# Simple rate and Forward rate\n",
    "\n",
    "## Simple rate\n",
    "\n",
    "### Simple rate for 1 year\n",
    "\n",
    "You and me set up a contract:\n",
    "* Right now (at $\\,t=0)\\,$ I pay you $\\,1\\,$ USD\n",
    "* In return, at $\\,t=T\\,$ you will pay me a fixed amount \n",
    "\n",
    "Let's denote by $\\,1+L\\,(\\,t=1\\,)\\,$ the fixed amount that you will pay. Note that $\\,L\\,(\\,t=1\\,)=\\displaystyle{\\frac{1}{P\\,(\\,t=1\\,)}-1}\\,$.\n",
    "\n",
    "This $\\,L\\,(\\,t=1\\,)\\,$ is called the currently observed <b>simple rate</b> for one year.\n",
    "\n",
    "\n",
    "### Question: Government bonds\n",
    "\n",
    "For $\\,t=1\\,$ a real-life quantity closely related to the USD simple rate is [displayed here](https://fred.stlouisfed.org/series/USD12MD156N). This is the interest that the US agreed to pay on its own 12-month loans at each indicated time point in the past.\n",
    "\n",
    "If a country must pay high interest rates on its loans, then how does this affect the government's ability to subsidize its own citizens and economy ?\n",
    "\n",
    "\n",
    "### Simple rate for T years\n",
    "\n",
    "Let us allow <b>both integer and non-integer</b> values of $\\,T\\,$ , for example $\\,T=2\\,$ or $\\,T=\\displaystyle{\\frac{1}{2}}\\,$.\n",
    "\n",
    "Again, you and me set up a contract:\n",
    "* Right now (at $\\,t=0)\\,$ I pay you $\\,1\\,$ \n",
    "* In return, at $\\,t=T\\,$ you will pay me a fixed amount \n",
    "\n",
    "To make this a fair contract you will pay $\\,1+ T \\cdot L\\,(\\,T\\,)\\,$. Note that $\\,L\\,(\\,T\\,)=\\displaystyle{\\frac{1}{T} \\cdot \\left(\\frac{1}{P\\,(\\,T\\,)}\\,-1\\right)}$.\n",
    "\n",
    "### Question: Simple rate for T years\n",
    "In our contract for $\\,T\\,$ years assume that there is a <b>constant yearly discount factor</b>, DF.\n",
    "\n",
    "Using this DF what is the value $\\,L\\,(\\,T\\,)$ ?\n",
    "\n",
    "Help: you need to find the connection between $\\,P\\,(\\,T\\,)\\,$, the constant yearly DF, and $\\,T\\,$."
   ]
  },
  {
   "cell_type": "code",
   "execution_count": null,
   "metadata": {},
   "outputs": [],
   "source": [
    "# This DF is the yearly Discount Factor. In the current question this DF is a constant.\n",
    "DF = 0.98\n",
    "\n",
    "# Let T be 2 or 3 or 4.\n",
    "# This L_T is the T-year yield of the given example.\n",
    "# L_T = <WRITE YOUR SOLUTION HERE AS A FUNCTION OF T>\n",
    "\n",
    "P = DF ** T\n",
    "L = 1/T * ( DF ** (-T) - 1 )\n"
   ]
  },
  {
   "cell_type": "markdown",
   "metadata": {},
   "source": [
    "## Forward rate\n",
    "\n",
    "Let us move the starting point of the contract into the future, to a $\\,t>0\\,$ time point.\n",
    "\n",
    "* At that selected time point in the future (at $\\,t>0)\\,$ I will pay you $\\,1\\,$\n",
    "* In return, at $\\,T>t\\,$ you will pay the fixed amount $\\,1+\\left(T-t\\right) \\cdot F\\,(\\,0,\\,t,\\,T\\,)\\,$\n",
    "\n",
    "Here $\\,F\\,(\\,0,\\,t,\\,T\\,)\\,$ is called the <b>forward rate</b>. It is our current knowledge of the simple rate from $\\,t\\,$ to $\\,T\\,$. \n",
    "\n",
    "The first argument is often omitted when it is $\\,0\\,$. So we simply write $\\,F\\,(\\,t,\\,T\\,)\\,$ and, accordingly, $\\,\\displaystyle{P\\,(\\,t,\\,T\\,)=\\frac{1}{1+(T-t) \\cdot F(t,T)}}\\,$.\n",
    "\n",
    "### Question: Forward rate\n",
    "If the 5-year and 10-year discount factors are $\\,P(5)=0.8\\,$ and $\\,P(10)=0.5\\,$, then what is $\\,F(5,10)\\,$?"
   ]
  },
  {
   "cell_type": "code",
   "execution_count": null,
   "metadata": {},
   "outputs": [],
   "source": [
    "# These are the 5-year and 10-year Discount Factors.\n",
    "P_5 = 0.8\n",
    "P_10 = 0.5\n",
    "\n",
    "# This F_5_10 is the forward rate\n",
    "# F_5_10 = <WRITE YOUR SOLUTION HERE>"
   ]
  },
  {
   "cell_type": "markdown",
   "metadata": {},
   "source": [
    "# Rates for very short times\n",
    "\n",
    "## Instantaneous spot rate (Short rate)\n",
    "\n",
    "You and me set up a contract:\n",
    "* Right now (at $\\,t=0)\\,$ I pay you $\\,1\\,$ \n",
    "* In return, at $\\,T\\ll 1\\,$ you will pay me $\\,1+ T \\cdot L\\,(\\,T\\,)\\,$\n",
    "\n",
    "The <b>instantaneous spot rate</b>, $\\,r\\,$, is the limiting value of the simple rate: \n",
    "\n",
    "$\\,\\displaystyle{r = \\lim_{T\\,\\to\\,0}L\\,(\\,T\\,)=\\lim_{T\\,\\to\\,0}\\left(\\frac{\\frac{1}{P\\,(\\,T\\,)}-1}{T}\\right) = \\lim_{T\\,\\to\\,0}\\left(\\frac{-\\,1}{P\\,(\\,T\\,)}\\cdot\\frac{P\\,(\\,T\\,)-P\\,(\\,0\\,)}{T}\\right)=-\\,\\frac{\\partial}{\\partial\\,T}\\Bigg|_{\\,T\\,=\\,0}\\!\\!\\ln\\big(P\\,(\\,T\\,)\\big)}$.\n",
    "\n",
    "Note: instantaneous means that the time difference is very short (goes to zero), and spot (in \"spot rate\") means that $\\,t=0\\,$.\n",
    "\n",
    "## Instantaneous forward rate\n",
    "\n",
    "Again, let us move the starting point of the contract into the future, to a $\\,t>0\\,$ time point.\n",
    "\n",
    "You and me set up a contract:\n",
    "\n",
    "* At a selected time point in the future (at $\\,t>0)\\,$ I will pay you $\\,1\\,$\n",
    "* In return, a very short time later (at $\\,T)\\,$ you will pay me $\\,1+\\left(T-t\\right) \\cdot F\\,(\\,t,\\,T\\,)$\n",
    "\n",
    "For a very short $\\,T\\,$ this simple rate becomes the <b>instantaneous forward rate</b>:\n",
    "\n",
    "$\\,\\displaystyle{f(t) = \\lim_{T\\,\\to\\,t}F\\,(\\,t,\\,T\\,)=-\\,\\frac{\\partial}{\\partial\\,T}\\Bigg|_{\\,T\\,=\\,t}\\!\\!\\ln\\big(P\\,(\\,t,\\,T\\,)\\big)}$.\n",
    "\n",
    "Note that the instantaneous spot rate is a special case of the general formula: $\\,r=f(0)\\,$.\n",
    "\n",
    "## Integral form of the Discount Factor\n",
    "Integrating the definition of the instantaneous forward rate gives ${\\displaystyle P\\,(\\,t,\\,T\\,)=\\exp\\left(-\\int_t^T \\!\\!f(\\tau)\\,d\\tau\\right)}\\,$.\n",
    "\n",
    "### Question: Instantaneous rates\n",
    "Assume that the instantaneous rate is currently 3\\% and it grows linearly by 0.2\\% every year.\n",
    "\n",
    "What is the 5Y forward rate starting 5Y from now ? \n",
    "\n",
    "Help: With the provided $\\,f(t)\\,$ you need to calculate $\\,F\\,(\\,5,\\,10\\,)\\,$ from $\\,P\\,(\\,5,\\,10\\,)\\,$. "
   ]
  },
  {
   "cell_type": "code",
   "execution_count": null,
   "metadata": {},
   "outputs": [],
   "source": [
    "# This is P(5,10) based on f(t)\n",
    "# P_5_10 = <WRITE YOUR SOLUTION HERE>\n",
    "\n",
    "# This is F(5,10) based on P(5,10)\n",
    "# F_5_10 = <WRITE YOUR SOLUTION HERE>"
   ]
  },
  {
   "cell_type": "markdown",
   "metadata": {},
   "source": [
    "# Compounding\n",
    "## Discrete compounding\n",
    "\n",
    "You and me set up two contracts:\n",
    "\n",
    "* First contract\n",
    " * right now (at $\\,t=0)\\,$ I pay you $\\,1\\,$ \n",
    " * at $\\,t=1\\,{\\mathit /}\\,2\\,$ you pay me the invested $\\,1\\,$ amount with interest: $\\,1+\\,L(1\\,{\\mathit /}\\,2)\\,{\\mathit /}\\,2\\,$\n",
    "* Second contract\n",
    " * at $\\,t=1\\,{\\mathit /}\\,2\\,$ I pay back to you the same amount: $\\,1+\\,L(1\\,{\\mathit /}\\,2)\\,{\\mathit /}\\,2\\,$ \n",
    " * at $\\,t=1\\,$ you pay me the invested amount with interest: $\\,\\big(1+\\,L(1\\,{\\mathit /}\\,2)\\,{\\mathit /}\\,2\\big) \\cdot \\big(1+\\,F(1\\,{\\mathit /}\\,2, 1\\,{\\mathit /}\\,2)\\,{\\mathit /}\\,2\\big)\\,$\n",
    " \n",
    "The final sum I receive back at $\\,t=1\\,$ must be the same as in the simple 1-year contract that does not have the above 2-step compounding.\n",
    "\n",
    "In other words, these three rates are connected:\n",
    "$\\,\\displaystyle{1+L(1)=\\left(1+\\frac{L\\left(\\frac{1}{2}\\right)}{2}\\right) \\cdot \\left(1+\\frac{F\\left(\\frac{1}{2}, \\frac{1}{2}\\right)}{2}\\right)}\\,$.\n",
    "\n",
    "Moreover, if we assume that $\\,L\\left(\\frac{1}{2}\\right)=F\\left(\\frac{1}{2}, \\frac{1}{2}\\right)\\,$, then we have $\\,\\displaystyle{1+L(1)=\\,\\left(1+\\frac{1}{2}\\,L\\!\\left(\\frac{1}{2}\\right)\\right)^{2}}\\,$\\."
   ]
  },
  {
   "cell_type": "markdown",
   "metadata": {},
   "source": [
    "## Continuous Compounding\n",
    "\n",
    "If we assume that the forward rate on each interval will be the same, then we have $\\,\\displaystyle{1+L(1)=\\,\\left(1+\\frac{1}{n}\\,L\\!\\left(\\frac{1}{n}\\right)\\right)^{n}}\\,$ for $\\,n=3, 4, \\dots\\,$.\n",
    "\n",
    "According to the definitions of the instantaneous rates: $\\,\\displaystyle{\\lim_{n\\,\\to\\,\\infty}L\\!\\left(\\frac{1}{n}\\right)}=f(0)=r\\,$, \n",
    "\n",
    "therefore, $\\,\\displaystyle{1+L(1)=\\left(1+\\frac{r}{n}\\right)^n}\\,$ converges to $\\,e^{\\,r}\\,$ as $\\,n\\to\\infty\\,$. \n",
    "\n",
    "In other words, \n",
    "* if the instantaneous <b>rate is constant $\\,r\\,$</b> over time, then the simple rate is $\\,\\displaystyle{L\\,(\\,0,\\,T\\,)=\\frac{e^{\\,r\\,T}-1}{T}}\\,$,\n",
    "* if the instantaneous <b>rate changes</b>, then\n",
    "$\\,\\displaystyle{L\\,(\\,0,\\,T\\,)=\\frac{\\exp\\left(\\int_0^T \\!\\!f(\\tau)\\,d\\tau\\right)-1}{T}}\\,$.\n"
   ]
  },
  {
   "cell_type": "markdown",
   "metadata": {},
   "source": [
    "# Yield curve\n",
    "\n",
    "The yield curve is the simple rate, $\\,L(\\,0,\\,T\\,)\\,$, as a function of the time length, $\\,T\\,$, from the start to the end (maturity) of the contract.\n",
    "\n",
    "It is also called the term structure of interest rates.\n"
   ]
  },
  {
   "cell_type": "markdown",
   "metadata": {},
   "source": [
    "# Suggested items\n",
    "\n",
    "* General introduction: https://www.coursera.org/learn/global-financial-markets-instruments\n",
    "* Short rate: https://en.wikipedia.org/wiki/Short-rate_model#The_short_rate\n",
    "* Compounding: https://en.wikipedia.org/wiki/Compound_interest\n",
    "* Arbitrage: https://www.investopedia.com/terms/a/arbitrage.asp"
   ]
  }
 ],
 "metadata": {
  "kernelspec": {
   "display_name": "Python 3 (ipykernel)",
   "language": "python",
   "name": "python3"
  },
  "language_info": {
   "codemirror_mode": {
    "name": "ipython",
    "version": 3
   },
   "file_extension": ".py",
   "mimetype": "text/x-python",
   "name": "python",
   "nbconvert_exporter": "python",
   "pygments_lexer": "ipython3",
   "version": "3.9.10"
  },
  "toc": {
   "base_numbering": 1,
   "nav_menu": {},
   "number_sections": true,
   "sideBar": true,
   "skip_h1_title": false,
   "title_cell": "Table of Contents",
   "title_sidebar": "Contents",
   "toc_cell": false,
   "toc_position": {
    "height": "calc(100% - 180px)",
    "left": "10px",
    "top": "150px",
    "width": "311px"
   },
   "toc_section_display": true,
   "toc_window_display": true
  }
 },
 "nbformat": 4,
 "nbformat_minor": 4
}
