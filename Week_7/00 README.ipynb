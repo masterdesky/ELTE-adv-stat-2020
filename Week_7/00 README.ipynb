{
 "cells": [
  {
   "cell_type": "markdown",
   "metadata": {},
   "source": [
    "## How to use these notebooks\n",
    "\n",
    "* Turn on these nbextensions: toc2, codefolding.\n",
    "* Fold up all the code. Run the code.\n",
    "* Observe plots in detail. Explain what you see.\n",
    "* Open the code, Change it, Break it, Try to fix.\n",
    "* Explain your changes in detail to someone else.\n",
    "\n",
    "## Sources, gratefully acknowledged\n",
    "\n",
    "* Python docs\n",
    "* Diebold: Elements of forecasting\n",
    "* Stackoverflow\n",
    "* Courses\n",
    "* Wikipedia"
   ]
  }
 ],
 "metadata": {
  "kernelspec": {
   "display_name": "Python 3",
   "language": "python",
   "name": "python3"
  },
  "language_info": {
   "codemirror_mode": {
    "name": "ipython",
    "version": 3
   },
   "file_extension": ".py",
   "mimetype": "text/x-python",
   "name": "python",
   "nbconvert_exporter": "python",
   "pygments_lexer": "ipython3",
   "version": "3.7.3"
  },
  "toc": {
   "base_numbering": 1,
   "nav_menu": {},
   "number_sections": true,
   "sideBar": true,
   "skip_h1_title": false,
   "title_cell": "Table of Contents",
   "title_sidebar": "Contents",
   "toc_cell": false,
   "toc_position": {},
   "toc_section_display": true,
   "toc_window_display": false
  }
 },
 "nbformat": 4,
 "nbformat_minor": 2
}
