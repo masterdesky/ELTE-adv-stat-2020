{
 "cells": [
  {
   "cell_type": "code",
   "execution_count": null,
   "metadata": {},
   "outputs": [],
   "source": [
    "import numpy as np\n",
    "import pandas as pd\n",
    "\n",
    "import seaborn as sns\n",
    "import matplotlib as mpl\n",
    "import matplotlib.cm as cm\n",
    "import matplotlib.pyplot as plt\n",
    "import matplotlib.patches as patches"
   ]
  },
  {
   "cell_type": "code",
   "execution_count": null,
   "metadata": {},
   "outputs": [],
   "source": [
    "out = '.\\\\out\\\\'\n",
    "figsave_format = 'pdf'\n",
    "figsave_dpi = 200\n",
    "\n",
    "# Set axtick dimensions\n",
    "major_size = 6\n",
    "major_width = 1.2\n",
    "minor_size = 3\n",
    "minor_width = 1\n",
    "mpl.rcParams['xtick.major.size'] = major_size\n",
    "mpl.rcParams['xtick.major.width'] = major_width\n",
    "mpl.rcParams['xtick.minor.size'] = minor_size\n",
    "mpl.rcParams['xtick.minor.width'] = minor_width\n",
    "mpl.rcParams['ytick.major.size'] = major_size\n",
    "mpl.rcParams['ytick.major.width'] = major_width\n",
    "mpl.rcParams['ytick.minor.size'] = minor_size\n",
    "mpl.rcParams['ytick.minor.width'] = minor_width\n",
    "\n",
    "# Seaborn style settings\n",
    "sns.set_style({'axes.axisbelow': True,\n",
    "               'axes.edgecolor': '.1',\n",
    "               'axes.facecolor': 'white',\n",
    "               'axes.grid': True,\n",
    "               'axes.labelcolor': '.15',\n",
    "               'axes.spines.bottom': True,\n",
    "               'axes.spines.left': True,\n",
    "               'axes.spines.right': True,\n",
    "               'axes.spines.top': True,\n",
    "               'figure.facecolor': 'white',\n",
    "               'font.family': ['sans-serif'],\n",
    "               'font.sans-serif': ['Arial',\n",
    "                'DejaVu Sans',\n",
    "                'Liberation Sans',\n",
    "                'Bitstream Vera Sans',\n",
    "                'sans-serif'],\n",
    "               'grid.color': '.8',\n",
    "               'grid.linestyle': '--',\n",
    "               'image.cmap': 'rocket',\n",
    "               'lines.solid_capstyle': 'round',\n",
    "               'patch.edgecolor': 'w',\n",
    "               'patch.force_edgecolor': True,\n",
    "               'text.color': '.15',\n",
    "               'xtick.bottom': True,\n",
    "               'xtick.color': '.15',\n",
    "               'xtick.direction': 'in',\n",
    "               'xtick.top': True,\n",
    "               'ytick.color': '.15',\n",
    "               'ytick.direction': 'in',\n",
    "               'ytick.left': True,\n",
    "               'ytick.right': True})"
   ]
  },
  {
   "cell_type": "markdown",
   "metadata": {},
   "source": [
    "# Mean and variance"
   ]
  },
  {
   "cell_type": "markdown",
   "metadata": {},
   "source": [
    "Python offers several alternatives for easy evaluation of the sample mean and variance of data. Let us see e.g., how to solve this problem using numpy. Remember, these two fundamental statistics are defined as \n",
    "\\begin{eqnarray}\n",
    "\\overline{X} &=& \\frac{1}{n}\\sum_{i=1}^n x_i, \\nonumber \\\\\n",
    "S^2 &=& \\frac{1}{n-1}\\sum_{i=1}^n (x_i - \\overline{X})^2 \\nonumber\n",
    "\\end{eqnarray}"
   ]
  },
  {
   "cell_type": "markdown",
   "metadata": {},
   "source": [
    "Let us generate random samples for which we know the true mean and variance, and \"check\" whether we get something close using the sample mean and variance. E.g., we can generate Normal distributed random numbers with prescribed mean $\\mu$ and variance $\\sigma^2$:"
   ]
  },
  {
   "cell_type": "code",
   "execution_count": null,
   "metadata": {},
   "outputs": [],
   "source": [
    "num_points = 10000"
   ]
  },
  {
   "cell_type": "code",
   "execution_count": null,
   "metadata": {},
   "outputs": [],
   "source": [
    "# create an array of random numbers from a Gaussian distribution\n",
    "# choose parameters that are easy to visualize\n",
    "mu = 20\n",
    "sigma = 5\n",
    "normal_data = np.random.normal(mu, sigma, num_points)"
   ]
  },
  {
   "cell_type": "markdown",
   "metadata": {},
   "source": [
    "To evaluate the sample mean and variance of the generated data we can use numpy's built in mean and var functions. "
   ]
  },
  {
   "cell_type": "code",
   "execution_count": null,
   "metadata": {},
   "outputs": [],
   "source": [
    "mean = np.mean(normal_data)\n",
    "var = np.var(normal_data)\n",
    "\n",
    "print('True mean = {0}'.format(mean))\n",
    "print('True variance = {0}'.format(var))\n",
    "print('True sigma = {0}\\n'.format(np.sqrt(var)))\n",
    "\n",
    "print('Given mean = {0}'.format(mu))\n",
    "print('Given variance = {0}'.format(sigma*sigma))\n",
    "print('Given sigma = {0}\\n'.format(sigma))\n",
    "\n",
    "print('mean_ratio = {0}'.format(mean/mu))\n",
    "print('var = {0}'.format(var/(sigma*sigma)))\n",
    "print('True/Given sigma = {0}'.format(sigma/sigma))"
   ]
  },
  {
   "cell_type": "code",
   "execution_count": null,
   "metadata": {},
   "outputs": [],
   "source": [
    "means = np.zeros(num_points)\n",
    "variances = np.zeros(num_points)\n",
    "\n",
    "for i in range(0, num_points):\n",
    "    normal_data = np.random.normal(mu, sigma, num_points)\n",
    "    means[i] = np.mean(normal_data)\n",
    "    variances[i] = np.var(normal_data)\n",
    "\n",
    "mean_of_values = np.mean(means)\n",
    "mean_of_variances = np.mean(variances)\n",
    "\n",
    "print('True mean = {0}'.format(mean_of_values))\n",
    "print('True variance = {0}'.format(mean_of_variances))\n",
    "print('True sigma = {0}\\n'.format(np.sqrt(mean_of_variances)))\n",
    "\n",
    "print('Given mean = {0}'.format(mu))\n",
    "print('Given variance = {0}'.format(sigma*sigma))\n",
    "print('Given sigma = {0}'.format(sigma))"
   ]
  },
  {
   "cell_type": "markdown",
   "metadata": {},
   "source": [
    "## Convergence of the sample mean and variance"
   ]
  },
  {
   "cell_type": "markdown",
   "metadata": {},
   "source": [
    "Let us now examine the convergence of the sample mean and variance by plotting them as a functions of the included number of data points. "
   ]
  },
  {
   "cell_type": "code",
   "execution_count": null,
   "metadata": {},
   "outputs": [],
   "source": [
    "num_points = 10000"
   ]
  },
  {
   "cell_type": "code",
   "execution_count": null,
   "metadata": {},
   "outputs": [],
   "source": [
    "x = np.arange(2, num_points+1)\n",
    "mean_list = [np.mean(normal_data[:i]) for i in x]\n",
    "var_list = [np.var(normal_data[:i], ddof=0.0) for i in x]     # ddof = 0.0\n",
    "var_alt_list = [np.var(normal_data[:i], ddof=1.0) for i in x] # ddof = 1.0"
   ]
  },
  {
   "cell_type": "markdown",
   "metadata": {},
   "source": [
    "Plot it so, that humans can see the convergence for large values and the deviation at small values"
   ]
  },
  {
   "cell_type": "code",
   "execution_count": null,
   "metadata": {},
   "outputs": [],
   "source": [
    "nrows = 1\n",
    "ncols = 1\n",
    "fig, axes = plt.subplots(nrows=nrows, ncols=ncols, figsize=(ncols*10, nrows*8))\n",
    "\n",
    "axistitlesize = 20\n",
    "axislabelsize = 18\n",
    "axisticksize = 16\n",
    "axislegendsize = 16\n",
    "\n",
    "axes.set_xscale('log')\n",
    "\n",
    "axes.plot(x, mean_list, color='tab:green', lw=3, label='Sample mean')\n",
    "axes.plot(x, var_list, color='tab:purple', lw=3, label='Sample variance')\n",
    "axes.plot(x, var_alt_list, color='tab:orange', lw=3, label='Var. MLE')\n",
    "\n",
    "axes.axhline(y=mu, color='tab:red', ls='--', lw=2.5, label='Given mean')\n",
    "axes.axhline(y=sigma**2, color='tab:blue', ls='--', lw=2.5, label='Given variance')\n",
    "\n",
    "axes.set_title('Sample mean and variance for Normal distribution', fontsize=axistitlesize, fontweight='bold')\n",
    "axes.set_xlabel('sample size', fontsize=axislabelsize)\n",
    "axes.tick_params(axis='both', which='major', labelsize=axisticksize)\n",
    "\n",
    "axes.legend(loc='center right', fontsize=axislegendsize)\n",
    "\n",
    "plt.show()"
   ]
  },
  {
   "cell_type": "markdown",
   "metadata": {},
   "source": [
    "Let's try out the same for a Pareto (Lomax) distribution as well!"
   ]
  },
  {
   "cell_type": "code",
   "execution_count": null,
   "metadata": {},
   "outputs": [],
   "source": [
    "num_points = 10000"
   ]
  },
  {
   "cell_type": "code",
   "execution_count": null,
   "metadata": {},
   "outputs": [],
   "source": [
    "# TRY DIFFERENT SHAPE PARAMETERS\n",
    "params = [3.5, 2.5, 1.5, 0.5]\n",
    "pareto_data = [np.random.pareto(p, num_points) for p in params]"
   ]
  },
  {
   "cell_type": "code",
   "execution_count": null,
   "metadata": {},
   "outputs": [],
   "source": [
    "x = np.arange(2, num_points+1)\n",
    "mean_list = [[np.mean(pareto_data[n][:i]) for i in x] for n in range(0, len(pareto_data))]\n",
    "var_list = [[np.var(pareto_data[n][:i], ddof=0.0) for i in x] for n in range(0, len(pareto_data))]     # ddof = 0.0\n",
    "var_alt_list = [[np.var(pareto_data[n][:i], ddof=1.0) for i in x] for n in range(0, len(pareto_data))] # ddof = 1.0"
   ]
  },
  {
   "cell_type": "code",
   "execution_count": null,
   "metadata": {},
   "outputs": [],
   "source": [
    "nrows = 2\n",
    "ncols = 2\n",
    "fig, axes = plt.subplots(nrows=nrows, ncols=ncols, figsize=(ncols*10, nrows*8))\n",
    "fig.subplots_adjust(hspace=0.3)\n",
    "\n",
    "axistitlesize = 20\n",
    "axislabelsize = 18\n",
    "axisticksize = 16\n",
    "axislegendsize = 16\n",
    "\n",
    "for i in range(nrows):\n",
    "    for j in range(ncols):\n",
    "        axes[i][j].set_xscale('log')\n",
    "\n",
    "        axes[i][j].plot(x, mean_list[i*ncols + j], color='tab:green', lw=3, label='Sample mean')\n",
    "        axes[i][j].plot(x, var_list[i*ncols + j], color='tab:purple', lw=3, label='Sample variance')\n",
    "        axes[i][j].plot(x, var_alt_list[i*ncols + j], color='tab:orange', lw=3, label='Var. MLE')\n",
    "\n",
    "        #axes[i][j].axhline(y=params[i * ncols + j], color='tab:red', ls='--', lw=2.5, label='Given parameter')\n",
    "\n",
    "        axes[i][j].set_title('Sample mean and variance for Pareto distribution\\nParam = {0}'.format(params[i*ncols + j]),\n",
    "                             fontsize=axistitlesize, fontweight='bold')\n",
    "        axes[i][j].set_xlabel('sample size', fontsize=axislabelsize)\n",
    "        axes[i][j].tick_params(axis='both', which='major', labelsize=axisticksize)\n",
    "\n",
    "        axes[i][j].legend(loc='best', fontsize=axislegendsize)\n",
    "\n",
    "plt.show()"
   ]
  },
  {
   "cell_type": "markdown",
   "metadata": {},
   "source": [
    "Let us repeat the above with data that was drawn from Cauchy distribution!"
   ]
  },
  {
   "cell_type": "code",
   "execution_count": null,
   "metadata": {},
   "outputs": [],
   "source": [
    "cauchy_data = np.random.standard_cauchy(num_points)"
   ]
  },
  {
   "cell_type": "code",
   "execution_count": null,
   "metadata": {},
   "outputs": [],
   "source": [
    "x = np.arange(2, num_points+1)\n",
    "mean_list = [np.mean(cauchy_data[:i]) for i in x]\n",
    "var_list = [np.var(cauchy_data[:i], ddof=0.0) for i in x]     # ddof = 0.0\n",
    "var_alt_list = [np.var(cauchy_data[:i], ddof=1.0) for i in x] # ddof = 1.0"
   ]
  },
  {
   "cell_type": "code",
   "execution_count": null,
   "metadata": {},
   "outputs": [],
   "source": [
    "nrows = 1\n",
    "ncols = 2\n",
    "fig, axes = plt.subplots(nrows=nrows, ncols=ncols, figsize=(ncols*10, nrows*8))\n",
    "\n",
    "axistitlesize = 20\n",
    "axislabelsize = 18\n",
    "axisticksize = 16\n",
    "axislegendsize = 16\n",
    "\n",
    "axes[0].plot(x, mean_list, color='tab:green', lw=3, label='Sample mean')\n",
    "axes[1].plot(x, var_list, color='tab:purple', lw=3, label='Sample variance')\n",
    "axes[1].plot(x, var_alt_list, color='tab:orange', lw=3, label='Var. MLE')\n",
    "\n",
    "for i in range(ncols):\n",
    "    axes[i].set_xscale('log')\n",
    "\n",
    "    axes[i].set_title('Sample mean and variance for Cauchy distribution', fontsize=axistitlesize, fontweight='bold')\n",
    "    axes[i].set_xlabel('sample size', fontsize=axislabelsize)\n",
    "    axes[i].tick_params(axis='both', which='major', labelsize=axisticksize)\n",
    "\n",
    "    axes[i].legend(loc='best', fontsize=axislegendsize)\n",
    "\n",
    "plt.show()"
   ]
  },
  {
   "cell_type": "markdown",
   "metadata": {},
   "source": [
    "## Simulating the stock market"
   ]
  },
  {
   "cell_type": "markdown",
   "metadata": {},
   "source": [
    "A very simple model of a fluctuating stock value is the following: In every time step its value is either increased by 1 cent, or is decreased by 1 cent with equal probabilities."
   ]
  },
  {
   "cell_type": "markdown",
   "metadata": {},
   "source": [
    "Let's simulate this simply by drawing a random sequence of 1 and -1, and summing the obtained values. \n",
    "\n",
    "First we define the number of stocks, and the number of time steps."
   ]
  },
  {
   "cell_type": "code",
   "execution_count": null,
   "metadata": {},
   "outputs": [],
   "source": [
    "num_stocks = 3\n",
    "num_time_steps = 10000"
   ]
  },
  {
   "cell_type": "markdown",
   "metadata": {},
   "source": [
    "We are going to put the generated time sequences of the stocks into a list."
   ]
  },
  {
   "cell_type": "code",
   "execution_count": null,
   "metadata": {},
   "outputs": [],
   "source": [
    "stock_time_series = np.zeros((num_stocks, num_time_steps))\n",
    "for i in range(0, num_time_steps-1):\n",
    "    for n in range(0, num_stocks):\n",
    "        # Random -1 and 1 dollars\n",
    "        rand_change = np.random.choice([-1,1])\n",
    "        # Add the current value to the array\n",
    "        stock_time_series[n][i+1] = stock_time_series[n][i] + rand_change"
   ]
  },
  {
   "cell_type": "markdown",
   "metadata": {},
   "source": [
    "Let's make actually two plots: \n",
    "- first only up to the first 1000 time steps,\n",
    "- next all the way up to 10000 time steps (and highlight within the area shown in the previous figure)"
   ]
  },
  {
   "cell_type": "code",
   "execution_count": null,
   "metadata": {},
   "outputs": [],
   "source": [
    "nrows = 1\n",
    "ncols = 1\n",
    "fig, axes = plt.subplots(nrows=nrows, ncols=ncols, figsize=(ncols*10, nrows*8))\n",
    "\n",
    "axistitlesize = 20\n",
    "axislabelsize = 18\n",
    "axisticksize = 16\n",
    "axislegendsize = 16\n",
    "\n",
    "colors = [\n",
    "    'tab:red',\n",
    "    'tab:green',\n",
    "    'tab:blue'\n",
    "]\n",
    "\n",
    "for n in range(0, num_stocks):\n",
    "    axes.plot(stock_time_series[n], c=colors[n], lw=3,\n",
    "              label='Stock no. {0}'.format(n+1))\n",
    "\n",
    "axes.set_xlim(0, 1000)\n",
    "axes.set_ylim(-95, 95)\n",
    "    \n",
    "axes.set_xlabel('Time steps', fontsize=axislabelsize)\n",
    "axes.set_ylabel('Relative stock value', fontsize=axislabelsize)\n",
    "axes.tick_params(axis='both', which='major', labelsize=axisticksize)\n",
    "\n",
    "axes.legend(loc= 'upper left',fontsize=axislegendsize)\n",
    "\n",
    "plt.show()"
   ]
  },
  {
   "cell_type": "code",
   "execution_count": null,
   "metadata": {},
   "outputs": [],
   "source": [
    "nrows = 1\n",
    "ncols = 1\n",
    "fig, axes = plt.subplots(nrows=nrows, ncols=ncols, figsize=(ncols*10, nrows*8))\n",
    "\n",
    "axistitlesize = 20\n",
    "axislabelsize = 18\n",
    "axisticksize = 16\n",
    "axislegendsize = 16\n",
    "\n",
    "colors = [\n",
    "    'tab:red',\n",
    "    'tab:green',\n",
    "    'tab:blue'\n",
    "]\n",
    "\n",
    "for n in range(0, num_stocks):\n",
    "    axes.plot(stock_time_series[n], c=colors[n], lw=3,\n",
    "              label='Stock no. {0}'.format(n+1))\n",
    "\n",
    "rect = patches.Rectangle(xy=(0,-95), width=1000, height=190,\n",
    "                         edgecolor='red', facecolor='red', alpha=0.1)\n",
    "axes.add_patch(rect)\n",
    "    \n",
    "axes.set_ylim(-300, 300)\n",
    "    \n",
    "axes.set_xlabel('Time steps', fontsize=axislabelsize)\n",
    "axes.set_ylabel('Relative stock value', fontsize=axislabelsize)\n",
    "axes.tick_params(axis='both', which='major', labelsize=axisticksize)\n",
    "\n",
    "axes.legend(loc= 'upper left',fontsize=axislegendsize)\n",
    "\n",
    "plt.show()"
   ]
  },
  {
   "cell_type": "markdown",
   "metadata": {},
   "source": [
    "- Observe that the two figures look quite similar. (More on that on the Fractals course).\n",
    "- ** What do you think, how was the vertical scale (set by ylim) chosen? **\n",
    "- Try out changing the scale of the first figure to see that it does not look similar to the 2nd if the horisontal - vertical scales are not \"properly\" set."
   ]
  },
  {
   "cell_type": "code",
   "execution_count": null,
   "metadata": {},
   "outputs": [],
   "source": []
  }
 ],
 "metadata": {
  "hide_input": false,
  "kernelspec": {
   "display_name": "Python 3 (ipykernel)",
   "language": "python",
   "name": "python3"
  },
  "language_info": {
   "codemirror_mode": {
    "name": "ipython",
    "version": 3
   },
   "file_extension": ".py",
   "mimetype": "text/x-python",
   "name": "python",
   "nbconvert_exporter": "python",
   "pygments_lexer": "ipython3",
   "version": "3.9.10"
  },
  "latex_envs": {
   "LaTeX_envs_menu_present": true,
   "autoclose": false,
   "autocomplete": true,
   "bibliofile": "biblio.bib",
   "cite_by": "apalike",
   "current_citInitial": 1,
   "eqLabelWithNumbers": true,
   "eqNumInitial": 1,
   "hotkeys": {
    "equation": "Ctrl-E",
    "itemize": "Ctrl-I"
   },
   "labels_anchors": false,
   "latex_user_defs": false,
   "report_style_numbering": false,
   "user_envs_cfg": false
  }
 },
 "nbformat": 4,
 "nbformat_minor": 4
}
