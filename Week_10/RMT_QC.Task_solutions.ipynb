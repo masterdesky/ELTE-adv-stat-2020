{
 "cells": [
  {
   "cell_type": "markdown",
   "metadata": {},
   "source": [
    "# Task I"
   ]
  },
  {
   "cell_type": "code",
   "execution_count": null,
   "metadata": {},
   "outputs": [],
   "source": [
    "%pylab inline"
   ]
  },
  {
   "cell_type": "code",
   "execution_count": null,
   "metadata": {},
   "outputs": [],
   "source": [
    "A=diag(rand(2000)-0.5)     # generate diagonal matrix\n",
    "evA=eigvalsh(A)            # get eigenvalues\n",
    "hA=hist(evA,50,normed=True)# generate histogram"
   ]
  },
  {
   "cell_type": "code",
   "execution_count": null,
   "metadata": {},
   "outputs": [],
   "source": [
    "B=rand(2000,2000)-0.5 # generate full random matrix \n",
    "                      # with elements uniformly distributed\n",
    "                      # in the [-0.5,0.5] intervall\n",
    "\n",
    "B=B+B.T               # symmetrize\n",
    "evB=eigvalsh(B)       # get eigenvalues\n",
    "hB=hist(evB,50,normed=True)# generate histogram"
   ]
  },
  {
   "cell_type": "code",
   "execution_count": null,
   "metadata": {},
   "outputs": [],
   "source": [
    "from scipy.optimize import curve_fit # getting the fitting algorithm"
   ]
  },
  {
   "cell_type": "markdown",
   "metadata": {},
   "source": [
    "We will fit a constant and a semicircle"
   ]
  },
  {
   "cell_type": "code",
   "execution_count": null,
   "metadata": {},
   "outputs": [],
   "source": [
    "# definition of the constant\n",
    "def const(x,c):\n",
    "    return c*ones_like(x)"
   ]
  },
  {
   "cell_type": "code",
   "execution_count": null,
   "metadata": {},
   "outputs": [],
   "source": [
    "poptA,pcovA=curve_fit(const,hA[1][:-1],hA[0]) # fitting the constant"
   ]
  },
  {
   "cell_type": "code",
   "execution_count": null,
   "metadata": {},
   "outputs": [],
   "source": [
    "# check how good the fit is\n",
    "plot(hA[1][:-1],hA[0])\n",
    "plot(hA[1][:-1],const(hA[1][:-1],*poptA))"
   ]
  },
  {
   "cell_type": "code",
   "execution_count": null,
   "metadata": {},
   "outputs": [],
   "source": [
    "#definition of the semicircle\n",
    "def semic(x,W,C):\n",
    "    return C*sqrt(W**2-x**2)\n",
    "# fitting\n",
    "poptB,pcovB=curve_fit(semic,hB[1][:-1],hB[0],p0=[50,0.1]) # we need to gess the initial parameters\n",
    "                                                          # for the fitting to go through"
   ]
  },
  {
   "cell_type": "code",
   "execution_count": null,
   "metadata": {},
   "outputs": [],
   "source": [
    "# checking the fit\n",
    "plot(hB[1][:-1],hB[0])\n",
    "plot(hB[1][:-1],semic(hB[1][:-1],*poptB))"
   ]
  },
  {
   "cell_type": "markdown",
   "metadata": {},
   "source": [
    "Make nice figures :)"
   ]
  },
  {
   "cell_type": "code",
   "execution_count": null,
   "metadata": {},
   "outputs": [],
   "source": [
    "hA=hist(evA,50,normed=True,label='data')\n",
    "plot(hA[1][:-1],const(hA[1][:-1],*poptA),label='constant')\n",
    "legend()\n",
    "xlabel(\"Energy\")\n",
    "ylabel(\"Number of states\");"
   ]
  },
  {
   "cell_type": "code",
   "execution_count": null,
   "metadata": {},
   "outputs": [],
   "source": [
    "hB=hist(evB,50,normed=True,label='data')\n",
    "plot(hB[1][:-1],semic(hB[1][:-1],*poptB),label='semicircle fit')\n",
    "legend()\n",
    "xlabel(\"Energy\")\n",
    "ylabel(\"Number of states\");"
   ]
  },
  {
   "cell_type": "markdown",
   "metadata": {},
   "source": [
    "# Task II"
   ]
  },
  {
   "cell_type": "code",
   "execution_count": null,
   "metadata": {},
   "outputs": [],
   "source": [
    "P=diag(randn(2000)) # Poisson\n",
    "\n",
    "GOE=randn(2000,2000)     # Orthogonal\n",
    "GOE=GOE+GOE.T\n",
    "\n",
    "GUE=randn(2000,2000)+1j*randn(2000,2000) # Unitary\n",
    "GUE=GUE+conj(GUE.T)"
   ]
  },
  {
   "cell_type": "code",
   "execution_count": null,
   "metadata": {},
   "outputs": [],
   "source": [
    "from scipy import interpolate # we will need interpolate data"
   ]
  },
  {
   "cell_type": "code",
   "execution_count": null,
   "metadata": {},
   "outputs": [],
   "source": [
    "evP = eigvalsh(P)                  # get some eigenvalues\n",
    "evGOE = eigvalsh(GOE)              # \n",
    "evGUE = eigvalsh(GUE)              # "
   ]
  },
  {
   "cell_type": "code",
   "execution_count": null,
   "metadata": {},
   "outputs": [],
   "source": [
    "# generate the cumulative distribution of the eigenvalues\n",
    "# here we use matplotlib's hist\n",
    "# could use numpy's but it has no built in cumulative histogram ... \n",
    "hgP=hist(evP,100,cumulative=True,normed=True) # may need to play with bins"
   ]
  },
  {
   "cell_type": "code",
   "execution_count": null,
   "metadata": {},
   "outputs": [],
   "source": [
    "hgGOE=hist(evGOE,100,cumulative=True,normed=True) # may need to play with bins"
   ]
  },
  {
   "cell_type": "code",
   "execution_count": null,
   "metadata": {},
   "outputs": [],
   "source": [
    "hgGUE=hist(evGUE,100,cumulative=True,normed=True) # may need to play with bins"
   ]
  },
  {
   "cell_type": "markdown",
   "metadata": {},
   "source": [
    "unfolding the eigenvalues"
   ]
  },
  {
   "cell_type": "code",
   "execution_count": null,
   "metadata": {},
   "outputs": [],
   "source": [
    "\n",
    "ipolP=interpolate.interp1d(hgP[1][1:],hgP[0],fill_value=(0,1),bounds_error=False) \n",
    "unfolded_evP=ipolP(evP)\n",
    "\n",
    "ipolGOE=interpolate.interp1d(hgGOE[1][1:],hgGOE[0],fill_value=(0,1),bounds_error=False) \n",
    "unfolded_evGOE=ipolGOE(evGOE)\n",
    "\n",
    "ipolGUE=interpolate.interp1d(hgGUE[1][1:],hgGUE[0],fill_value=(0,1),bounds_error=False) \n",
    "unfolded_evGUE=ipolGUE(evGUE)"
   ]
  },
  {
   "cell_type": "markdown",
   "metadata": {},
   "source": [
    "generating histograms to be used in fittings"
   ]
  },
  {
   "cell_type": "code",
   "execution_count": null,
   "metadata": {},
   "outputs": [],
   "source": [
    "# definition of distribution functions to be used\n",
    "rhoGOE = lambda x,a,b:a*x*exp(-x**2*b)\n",
    "rhoGUE = lambda x,a,b:a*x**2*exp(-x**2*b)\n",
    "rhoP   = lambda x,a,b:a*exp(-x*b)\n",
    "lran=linspace(0,0.0025,1000)"
   ]
  },
  {
   "cell_type": "markdown",
   "metadata": {},
   "source": [
    "Diagonal matrix has Poisson levelspacing"
   ]
  },
  {
   "cell_type": "code",
   "execution_count": null,
   "metadata": {},
   "outputs": [],
   "source": [
    "hP=hist(diff(sort(unfolded_evP)),50);\n",
    "popt,pcov=curve_fit(rhoP,hP[1][:-1],hP[0])\n",
    "plot(lran,rhoP(lran,*popt),'r--',label='Poisson',lw=3)\n",
    "\n",
    "popt,pcov=curve_fit(rhoGOE,hP[1][:-1],hP[0])\n",
    "plot(lran,rhoGOE(lran,*popt),'C1-',label='GOE',lw=3)\n",
    "\n",
    "popt,pcov=curve_fit(rhoGUE,hP[1][:-1],hP[0])\n",
    "plot(lran,rhoGUE(lran,*popt),'k-.',label='GUE',lw=3)\n",
    "\n",
    "xlim(0,0.0025)\n",
    "legend()\n",
    "xlabel('level spacing')\n",
    "ylabel('#');"
   ]
  },
  {
   "cell_type": "markdown",
   "metadata": {},
   "source": [
    "Symmetric matrix has GOE ($\\beta=1$)"
   ]
  },
  {
   "cell_type": "code",
   "execution_count": null,
   "metadata": {},
   "outputs": [],
   "source": [
    "hGOE=hist(diff(sort(unfolded_evGOE)),50);\n",
    "popt,pcov=curve_fit(rhoP,hGOE[1][:-1],hGOE[0])\n",
    "plot(lran,rhoP(lran,*popt),'r--',label='Poisson',lw=3)\n",
    "\n",
    "popt,pcov=curve_fit(rhoGOE,hGOE[1][:-1],hGOE[0])\n",
    "plot(lran,rhoGOE(lran,*popt),'C1-',label='GOE',lw=3)\n",
    "\n",
    "popt,pcov=curve_fit(rhoGUE,hGOE[1][:-1],hGOE[0])\n",
    "plot(lran,rhoGUE(lran,*popt),'k-.',label='GUE',lw=3)\n",
    "\n",
    "xlim(0,0.0025)\n",
    "legend()\n",
    "xlabel('level spacing')\n",
    "ylabel('#');"
   ]
  },
  {
   "cell_type": "markdown",
   "metadata": {},
   "source": [
    "Hermitian matrix has GUE ($\\beta=2$)"
   ]
  },
  {
   "cell_type": "code",
   "execution_count": null,
   "metadata": {},
   "outputs": [],
   "source": [
    "hGUE=hist(diff(sort(unfolded_evGUE)),50);\n",
    "popt,pcov=curve_fit(rhoP,hGUE[1][:-1],hGUE[0])\n",
    "plot(lran,rhoP(lran,*popt),'r--',label='Poisson',lw=3)\n",
    "\n",
    "popt,pcov=curve_fit(rhoGOE,hGUE[1][:-1],hGUE[0])\n",
    "plot(lran,rhoGOE(lran,*popt),'C1-',label='GOE',lw=3)\n",
    "\n",
    "popt,pcov=curve_fit(rhoGUE,hGUE[1][:-1],hGUE[0])\n",
    "plot(lran,rhoGUE(lran,*popt),'k-.',label='GUE',lw=3)\n",
    "\n",
    "xlim(0,0.0025)\n",
    "legend()\n",
    "xlabel('level spacing')\n",
    "ylabel('#');"
   ]
  },
  {
   "cell_type": "markdown",
   "metadata": {},
   "source": [
    "# Task III"
   ]
  },
  {
   "cell_type": "code",
   "execution_count": null,
   "metadata": {},
   "outputs": [],
   "source": [
    "L=35 # define rectangular sample \n",
    "W=20\n",
    "y,x=meshgrid(range(W),range(L))\n",
    "x=x.flatten() # generate coordinates\n",
    "y=y.flatten()\n",
    "# come up with the shape of the potato \n",
    "# lets make two touching disks\n",
    "inside=((x-W/2)**2+(y-W/2)**2<(W/2)**2)+((x-(L-W/2))**2+(y-W/2)**2<(W/2)**2)"
   ]
  },
  {
   "cell_type": "code",
   "execution_count": null,
   "metadata": {},
   "outputs": [],
   "source": [
    "plot(x,y,'o',mec='r',mfc='w',ms=6)\n",
    "plot(x[inside],y[inside],'b+')\n",
    "\n",
    "axis('equal');\n",
    "xlabel('x')\n",
    "ylabel('y');\n"
   ]
  },
  {
   "cell_type": "code",
   "execution_count": null,
   "metadata": {},
   "outputs": [],
   "source": [
    "# define some helper matrices to be used in hamiltonian construction\n",
    "idL=eye(L)\n",
    "idW=eye(W)\n",
    "odL=diag(ones(L-1),1)\n",
    "odW=diag(ones(W-1),1)\n",
    "# define slices of the hamiltonian\n",
    "h0=4*idW-odW-odW.T\n",
    "h1=-idW\n",
    "# build hamiltonian corresponding to red lattice\n",
    "H=(kron(idL,h0)+kron(odL,h1)+kron(odL,h1).T)\n",
    "# cut region of interest\n",
    "Hinside=H[:,inside][inside,:]"
   ]
  },
  {
   "cell_type": "code",
   "execution_count": null,
   "metadata": {},
   "outputs": [],
   "source": [
    "va,ve=eigh(Hinside)"
   ]
  },
  {
   "cell_type": "code",
   "execution_count": null,
   "metadata": {},
   "outputs": [],
   "source": [
    "from  ipywidgets import *"
   ]
  },
  {
   "cell_type": "code",
   "execution_count": null,
   "metadata": {},
   "outputs": [],
   "source": [
    "@interact(i=(0,len(va)-1))\n",
    "def play(i=0):\n",
    "    #tripcolor(x[inside],y[inside],abs(ve[:,i])**2 )\n",
    "    scatter(x[inside],y[inside],s=55*ones_like(ve[:,i]),c=abs(ve[:,i])**2,marker='s' )\n",
    "    axis('equal')\n",
    "    xlabel('x')\n",
    "    ylabel('y');"
   ]
  },
  {
   "cell_type": "markdown",
   "metadata": {},
   "source": [
    "## The biliard\n",
    "\n",
    "\n",
    "### Non chaotic"
   ]
  },
  {
   "cell_type": "code",
   "execution_count": null,
   "metadata": {},
   "outputs": [],
   "source": [
    "L=70 # define rectangular sample \n",
    "W=70\n",
    "y,x=meshgrid(range(W),range(L))\n",
    "x=x.flatten() # generate coordinates\n",
    "y=y.flatten()\n",
    "# come up with the shape of the potato \n",
    "# lets make two touching disks\n",
    "inside_nC=y<1*x\n",
    "sum(inside_nC) # check dimension"
   ]
  },
  {
   "cell_type": "code",
   "execution_count": null,
   "metadata": {},
   "outputs": [],
   "source": [
    "plot(x,y,'o',mec='r',mfc='w',ms=6)\n",
    "plot(x[inside_nC],y[inside_nC],'b+')\n",
    "\n",
    "axis('equal');\n",
    "xlabel('x')\n",
    "ylabel('y');\n"
   ]
  },
  {
   "cell_type": "code",
   "execution_count": null,
   "metadata": {},
   "outputs": [],
   "source": [
    "# define some helper matrices to be used in hamiltonian construction\n",
    "idL=eye(L)\n",
    "idW=eye(W)\n",
    "odL=diag(ones(L-1),1)\n",
    "odW=diag(ones(W-1),1)\n",
    "# define slices of the hamiltonian\n",
    "h0=4*idW-odW-odW.T\n",
    "h1=-idW\n",
    "# build hamiltonian corresponding to red lattice\n",
    "H=(kron(idL,h0)+kron(odL,h1)+kron(odL,h1).T)\n",
    "# cut region of interest\n",
    "Hinside_nC=H[:,inside_nC][inside_nC,:]"
   ]
  },
  {
   "cell_type": "code",
   "execution_count": null,
   "metadata": {},
   "outputs": [],
   "source": [
    "ev_nC,vec_nC=eigh(Hinside_nC)\n",
    "ev_nC=ev_nC[:1000]"
   ]
  },
  {
   "cell_type": "code",
   "execution_count": null,
   "metadata": {},
   "outputs": [],
   "source": [
    "hg_nC=hist(ev_nC,100,cumulative=True,normed=True) # may need to play with bins\n",
    "\n",
    "ipol_nC=interpolate.interp1d(hg_nC[1][1:],hg_nC[0],fill_value=(0,1),bounds_error=False) \n",
    "unfolded_ev_nC=ipol_nC(ev_nC)\n"
   ]
  },
  {
   "cell_type": "code",
   "execution_count": null,
   "metadata": {},
   "outputs": [],
   "source": [
    "lran=linspace(0,0.005,1000)\n",
    "\n",
    "h_nC=hist(diff(sort(unfolded_ev_nC)),25);\n",
    "popt,pcov=curve_fit(rhoP,h_nC[1][:-1],h_nC[0])\n",
    "plot(lran,rhoP(lran,*popt),'r--',label='Poisson',lw=3)\n",
    "\n",
    "popt,pcov=curve_fit(rhoGOE,h_nC[1][:-1],h_nC[0])\n",
    "plot(lran,rhoGOE(lran,*popt),'C1-',label='GOE',lw=3)\n",
    "\n",
    "legend()\n",
    "xlabel('level spacing')\n",
    "ylabel('#');"
   ]
  },
  {
   "cell_type": "markdown",
   "metadata": {},
   "source": [
    "As one can see the levelspacing distribution of the unfolded spectra is Poisson like."
   ]
  },
  {
   "cell_type": "code",
   "execution_count": null,
   "metadata": {},
   "outputs": [],
   "source": [
    "@interact(i=(0,len(va)-1))\n",
    "def play(i=0):\n",
    "    tripcolor(x[inside_nC],y[inside_nC],abs(vec_nC[:,i])**2 )\n",
    "    axis('equal')\n",
    "    xlabel('x')\n",
    "    ylabel('y');"
   ]
  },
  {
   "cell_type": "markdown",
   "metadata": {},
   "source": [
    "### Chaotic"
   ]
  },
  {
   "cell_type": "code",
   "execution_count": null,
   "metadata": {},
   "outputs": [],
   "source": [
    "L=120 # define rectangular sample \n",
    "W=120\n",
    "y,x=meshgrid(range(W),range(L))\n",
    "x=x.flatten() # generate coordinates\n",
    "y=y.flatten()\n",
    "# come up with the shape of the potato \n",
    "# lets make two touching disks\n",
    "inside_C=(y<1*x)*(x**2+y**2>(L*0.9)**2)\n",
    "sum(inside_C)"
   ]
  },
  {
   "cell_type": "code",
   "execution_count": null,
   "metadata": {},
   "outputs": [],
   "source": [
    "plot(x,y,'o',mec='r',mfc='w',ms=6)\n",
    "plot(x[inside_C],y[inside_C],'b+')\n",
    "\n",
    "axis('equal');\n",
    "xlabel('x')\n",
    "ylabel('y');\n"
   ]
  },
  {
   "cell_type": "code",
   "execution_count": null,
   "metadata": {},
   "outputs": [],
   "source": [
    "# define some helper matrices to be used in hamiltonian construction\n",
    "idL=eye(L)\n",
    "idW=eye(W)\n",
    "odL=diag(ones(L-1),1)\n",
    "odW=diag(ones(W-1),1)\n",
    "# define slices of the hamiltonian\n",
    "h0=4*idW-odW-odW.T\n",
    "h1=-idW\n",
    "# build hamiltonian corresponding to red lattice\n",
    "H=(kron(idL,h0)+kron(odL,h1)+kron(odL,h1).T)\n",
    "# cut region of interest\n",
    "Hinside_C=H[:,inside_C][inside_C,:]"
   ]
  },
  {
   "cell_type": "code",
   "execution_count": null,
   "metadata": {},
   "outputs": [],
   "source": [
    "ev_C,vec_C=eigh(Hinside_C)\n",
    "ev_C=ev_C[:1000]"
   ]
  },
  {
   "cell_type": "code",
   "execution_count": null,
   "metadata": {},
   "outputs": [],
   "source": [
    "hg_C=hist(ev_C,100,cumulative=True,normed=True) # may need to play with bins\n",
    "\n",
    "ipol_C=interpolate.interp1d(hg_C[1][1:],hg_C[0],fill_value=(0,1),bounds_error=False) \n",
    "unfolded_ev_C=ipol_C(ev_C)\n"
   ]
  },
  {
   "cell_type": "code",
   "execution_count": null,
   "metadata": {},
   "outputs": [],
   "source": [
    "h_C=hist(diff(sort(unfolded_ev_C)),50);\n",
    "popt,pcov=curve_fit(rhoP,h_C[1][:-1],h_C[0])\n",
    "plot(lran,rhoP(lran,*popt),'r--',label='Poisson',lw=3)\n",
    "\n",
    "popt,pcov=curve_fit(rhoGOE,h_C[1][:-1],h_C[0])\n",
    "plot(lran,rhoGOE(lran,*popt),'C1-',label='GOE',lw=3)\n",
    "legend()\n",
    "xlabel('level spacing')\n",
    "ylabel('#');"
   ]
  },
  {
   "cell_type": "markdown",
   "metadata": {},
   "source": [
    "As one can see the levelspacing distribution of the unfolded spectra is Poisson like."
   ]
  },
  {
   "cell_type": "code",
   "execution_count": null,
   "metadata": {},
   "outputs": [],
   "source": [
    "@interact(i=(0,len(va)-1))\n",
    "def play(i=0):\n",
    "    #tripcolor(x[inside_C],y[inside_C],abs(vec_C[:,i])**2 )\n",
    "    scatter(x[inside_C],y[inside_C],s=55*ones_like(vec_C[:,i]),c=abs(vec_C[:,i])**2,marker='s' )\n",
    "    axis('equal')\n",
    "    xlabel('x')\n",
    "    ylabel('y');"
   ]
  },
  {
   "cell_type": "code",
   "execution_count": null,
   "metadata": {},
   "outputs": [],
   "source": []
  }
 ],
 "metadata": {
  "kernelspec": {
   "display_name": "Python 3 (ipykernel)",
   "language": "python",
   "name": "python3"
  },
  "language_info": {
   "codemirror_mode": {
    "name": "ipython",
    "version": 3
   },
   "file_extension": ".py",
   "mimetype": "text/x-python",
   "name": "python",
   "nbconvert_exporter": "python",
   "pygments_lexer": "ipython3",
   "version": "3.9.10"
  }
 },
 "nbformat": 4,
 "nbformat_minor": 4
}
