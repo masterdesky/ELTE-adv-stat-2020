{
 "cells": [
  {
   "cell_type": "code",
   "execution_count": null,
   "metadata": {},
   "outputs": [],
   "source": [
    "import numpy as np;\n",
    "import matplotlib as mp;\n",
    "import matplotlib.pyplot as plt;\n",
    "import matplotlib.patches as patches;\n",
    "import pandas as pd;\n",
    "import math;"
   ]
  },
  {
   "cell_type": "markdown",
   "metadata": {},
   "source": [
    "## Covariance and correlation"
   ]
  },
  {
   "cell_type": "markdown",
   "metadata": {},
   "source": [
    "Let us calculate the covariance and correlation for real data using Pandas. First we specify the data file name and have a \"peek\" at the data frame:"
   ]
  },
  {
   "cell_type": "code",
   "execution_count": null,
   "metadata": {},
   "outputs": [],
   "source": [
    "data_file = 'ASC_cg_export.tsv';\n",
    "pd.read_csv(data_file,sep = '\\t',low_memory=False)"
   ]
  },
  {
   "cell_type": "markdown",
   "metadata": {},
   "source": [
    "Now let's actually read the data into a pandas data frame."
   ]
  },
  {
   "cell_type": "code",
   "execution_count": null,
   "metadata": {},
   "outputs": [],
   "source": [
    "data_frame = pd.read_csv(data_file,sep = '\\t',low_memory=False);"
   ]
  },
  {
   "cell_type": "markdown",
   "metadata": {},
   "source": [
    "Let's check the column names:"
   ]
  },
  {
   "cell_type": "code",
   "execution_count": null,
   "metadata": {},
   "outputs": [],
   "source": [
    "data_frame.columns"
   ]
  },
  {
   "cell_type": "markdown",
   "metadata": {},
   "source": [
    "Before actually calculating the variance-covariance matrix, let's simply look at scatter plots, where we plot the value in a given column as a function of the value in another column."
   ]
  },
  {
   "cell_type": "code",
   "execution_count": null,
   "metadata": {},
   "outputs": [],
   "source": [
    "plt.clf();\n",
    "plt.plot(data_frame['cg00510787'][:],data_frame['cg03169527'][:],'bo', alpha =0.4);\n",
    "plt.xlabel('cg00510787');\n",
    "plt.ylabel('cg03169527');\n",
    "plt.xlim(0,1);\n",
    "plt.ylim(0,1);\n",
    "plt.axis('square');"
   ]
  },
  {
   "cell_type": "markdown",
   "metadata": {},
   "source": [
    "Now create a grid of scatter plots as the figure indicates. Try to set the axis labels from the dataset."
   ]
  },
  {
   "cell_type": "code",
   "execution_count": null,
   "metadata": {},
   "outputs": [],
   "source": [
    "plt.clf();\n",
    "plt.subplot(121)\n",
    "plt.plot(data_frame['cg00510787'][:],data_frame['cg03169527'][:],'bo', alpha =0.4);\n",
    "plt.xlabel('cg00510787');\n",
    "plt.ylabel('cg03169527');\n",
    "plt.xlim(0,1);\n",
    "plt.ylim(0,1);\n",
    "plt.axis('square');\n",
    "\n",
    "plt.subplot(122)\n",
    "plt.plot(data_frame.iloc[:,1],data_frame.iloc[:,3],'bo',alpha = 0.4);\n",
    "plt.xlabel(data_frame.columns[1]);\n",
    "plt.ylabel(data_frame.columns[3]);\n",
    "plt.xlim(0,1);\n",
    "plt.ylim(0,1);\n",
    "plt.axis('square');\n",
    "plt.tight_layout();\n",
    "plt.show();\n",
    "\n",
    "plt.clf();\n",
    "plt.subplot(121)\n",
    "plt.plot(data_frame.iloc[:,1],data_frame.iloc[:,4],'bo',alpha = 0.4);\n",
    "plt.xlabel(data_frame.columns[1]);\n",
    "plt.ylabel(data_frame.columns[4]);\n",
    "plt.xlim(0,1);\n",
    "plt.ylim(0,1);\n",
    "plt.axis('square');\n",
    "\n",
    "plt.subplot(122)\n",
    "plt.plot(data_frame.iloc[:,2],data_frame.iloc[:,3],'bo',alpha = 0.4);\n",
    "plt.xlabel(data_frame.columns[2]);\n",
    "plt.ylabel(data_frame.columns[3]);\n",
    "plt.xlim(0,1);\n",
    "plt.ylim(0,1);\n",
    "plt.axis('square');\n",
    "plt.tight_layout();\n",
    "plt.show();\n",
    "\n",
    "plt.clf();\n",
    "plt.subplot(121)\n",
    "plt.plot(data_frame.iloc[:,2],data_frame.iloc[:,4],'bo',alpha = 0.4);\n",
    "plt.xlabel(data_frame.columns[2]);\n",
    "plt.ylabel(data_frame.columns[4]);\n",
    "plt.xlim(0,1);\n",
    "plt.ylim(0,1);\n",
    "plt.axis('square');\n",
    "\n",
    "plt.subplot(122)\n",
    "plt.plot(data_frame.iloc[:,3],data_frame.iloc[:,4],'bo',alpha = 0.4);\n",
    "plt.xlabel(data_frame.columns[3]);\n",
    "plt.ylabel(data_frame.columns[4]);\n",
    "plt.xlim(0,1);\n",
    "plt.ylim(0,1);\n",
    "plt.axis('square');\n",
    "plt.tight_layout();\n",
    "plt.show();"
   ]
  },
  {
   "cell_type": "markdown",
   "metadata": {},
   "source": [
    "Let's now calculate the co-variance and the correlation matrices."
   ]
  },
  {
   "cell_type": "code",
   "execution_count": null,
   "metadata": {},
   "outputs": [],
   "source": [
    "data_frame.cov()"
   ]
  },
  {
   "cell_type": "code",
   "execution_count": null,
   "metadata": {},
   "outputs": [],
   "source": [
    "data_frame.corr()"
   ]
  },
  {
   "cell_type": "markdown",
   "metadata": {},
   "source": [
    "Of course, covariance can be calculated also in numpy. To test this, let us first generate a multinomial data set. First we define the parameters of multinomial distribution, $N$ and a couple of $p_i$, where $\\sum_i p_i=1$."
   ]
  },
  {
   "cell_type": "code",
   "execution_count": null,
   "metadata": {},
   "outputs": [],
   "source": [
    "N_mn = 50\n",
    "p_mn = [.1,.2,.3,.4] # set a list of likelihoods, eg. 4 probabilities\n",
    "print(sum(p_mn))"
   ]
  },
  {
   "cell_type": "code",
   "execution_count": null,
   "metadata": {},
   "outputs": [],
   "source": [
    "multinom_data = np.random.multinomial(N_mn, p_mn, 10)\n",
    "print(multinom_data);"
   ]
  },
  {
   "cell_type": "code",
   "execution_count": null,
   "metadata": {},
   "outputs": [],
   "source": [
    "multinom_cov_matr = np.cov(np.transpose(multinom_data));\n",
    "multinom_cov_matr"
   ]
  },
  {
   "cell_type": "markdown",
   "metadata": {},
   "source": [
    "As a comparison, let's also calculate the theoretical variance-covariance matrix."
   ]
  },
  {
   "cell_type": "code",
   "execution_count": null,
   "metadata": {},
   "outputs": [],
   "source": [
    "theor_cov_matr = [[- N_mn*p_mn[i]*p_mn[j] if j!= i else N_mn*p_mn[i]*(1.0-p_mn[i]) for j in range(0,len(p_mn))] for i in range(0,len(p_mn))];\n",
    "for line in theor_cov_matr:\n",
    "    print(line);"
   ]
  },
  {
   "cell_type": "markdown",
   "metadata": {},
   "source": [
    "# Inequalities"
   ]
  },
  {
   "cell_type": "markdown",
   "metadata": {},
   "source": [
    "Let us assume IID Bernoulli random variables such as coin flips, where we do not know the parameter $p$, and only have access to the generated sample.\n",
    "\n",
    "Our best guess (estimate) for $p$ based on the observed data is given by\n",
    "\\begin{equation}\n",
    "\\widehat{p}=\\overline{X_n}=\\frac{1}{n}\\sum_{i=1}^n x_i.\\nonumber\n",
    "\\end{equation}\n",
    "\n",
    "\n",
    "Hoeffding's inequality states that as $n$ is increased, this estimate is getting exponentialy close to the true value of $p$, since\n",
    "\\begin{equation}\n",
    "P\\left(\\left| \\overline{X_n}- p\\right| \\geq \\epsilon\\right)\\leq 2 e^{-2n\\epsilon^2}.\\nonumber\n",
    "\\end{equation}\n",
    "\n",
    "Based on that we can construct an interval (called confidence interval) around the estimate $\\widehat{p}=\\overline{X_n}$ for which we can write down a guaranteed lower bound on the probability that the true $p$ falls within the interval. \n",
    "\n",
    "Let us choose the guaranteed lower bound as $1-\\alpha$, where $\\alpha$ is a parameter. For a fixed $\\alpha$, the interval can be given as ??????YOUR_FOMULA_HERE?????? where  \n",
    "\\begin{equation}\n",
    "\\epsilon = YOURFORMULA, \\nonumber\n",
    "\\end{equation}\n",
    "and in such a setting find the formula for the probability, that the interval covers the $p$ value.\n",
    "\\begin{equation}\n",
    "P ....\n",
    "\\end{equation}\n",
    "\n",
    "\n"
   ]
  },
  {
   "cell_type": "markdown",
   "metadata": {},
   "source": [
    "Let us test this by actually generating Bernoulli random variables and measuring the **coverage** of the above interval, where coverage is the ratio of experiments where the true $p$ did fall into the interval."
   ]
  },
  {
   "cell_type": "markdown",
   "metadata": {},
   "source": [
    "First, we define the parameters."
   ]
  },
  {
   "cell_type": "code",
   "execution_count": null,
   "metadata": {},
   "outputs": [],
   "source": [
    "p_true = 0.4;       # the p parameter of the Bernoulli distribution\n",
    "num_flips = 50;   # the number of data points in one experiment\n",
    "num_series = 1000;   # the number of experiments.\n",
    "alpha = 0.05;"
   ]
  },
  {
   "cell_type": "markdown",
   "metadata": {},
   "source": [
    "Let's just try out generating a small sample."
   ]
  },
  {
   "cell_type": "code",
   "execution_count": null,
   "metadata": {},
   "outputs": [],
   "source": [
    "Bernoulli_samp = YOURCODE_FOR_10_RANDOMLY_CHOSEN_0_or_1_where_0_coccures_with_ptrue_probability # use numpy!\n",
    "print(Bernoulli_samp);"
   ]
  },
  {
   "cell_type": "markdown",
   "metadata": {},
   "source": [
    "OK, it seems working, let's now generate the longer samples."
   ]
  },
  {
   "cell_type": "code",
   "execution_count": null,
   "metadata": {},
   "outputs": [],
   "source": [
    "B_series = [your_code_for_list_of_size_is_num_flips for i in range(0,num_series)];"
   ]
  },
  {
   "cell_type": "markdown",
   "metadata": {},
   "source": [
    "And finally let's see how does the coverage depend on the number of flips. "
   ]
  },
  {
   "cell_type": "code",
   "execution_count": null,
   "metadata": {},
   "outputs": [],
   "source": [
    "cover_list,epsilon_list = [],[];\n",
    "cover_list.clear();\n",
    "epsilon_list.clear();\n",
    "for n in range(1,num_flips):\n",
    "    epsilon = FORMULA_FROM_ABOVE\n",
    "    epsilon_list.append(epsilon);\n",
    "    cover_indicator = [ 1 if_p_true_in_interval];\n",
    "    coverage = YOUR_CODE\n",
    "    cover_list.append(coverage);    \n",
    "    #print('n=',n,'coverage=',coverage);    "
   ]
  },
  {
   "cell_type": "code",
   "execution_count": null,
   "metadata": {},
   "outputs": [],
   "source": [
    "plt.clf();\n",
    "x_list = range(1,len(cover_list)+1);\n",
    "plt.plot(x_list,cover_list);\n",
    "plt.ylim(0.99,1.01);\n",
    "plt.xlabel('num. flips');\n",
    "plt.ylabel('coverage in '+str(num_series)+' series');\n",
    "plt.show();"
   ]
  },
  {
   "cell_type": "code",
   "execution_count": null,
   "metadata": {},
   "outputs": [],
   "source": []
  }
 ],
 "metadata": {
  "hide_input": false,
  "kernelspec": {
   "display_name": "Python 3 (ipykernel)",
   "language": "python",
   "name": "python3"
  },
  "language_info": {
   "codemirror_mode": {
    "name": "ipython",
    "version": 3
   },
   "file_extension": ".py",
   "mimetype": "text/x-python",
   "name": "python",
   "nbconvert_exporter": "python",
   "pygments_lexer": "ipython3",
   "version": "3.9.10"
  },
  "latex_envs": {
   "LaTeX_envs_menu_present": true,
   "autoclose": false,
   "autocomplete": true,
   "bibliofile": "biblio.bib",
   "cite_by": "apalike",
   "current_citInitial": 1,
   "eqLabelWithNumbers": true,
   "eqNumInitial": 1,
   "hotkeys": {
    "equation": "Ctrl-E",
    "itemize": "Ctrl-I"
   },
   "labels_anchors": false,
   "latex_user_defs": false,
   "report_style_numbering": false,
   "user_envs_cfg": false
  }
 },
 "nbformat": 4,
 "nbformat_minor": 4
}
