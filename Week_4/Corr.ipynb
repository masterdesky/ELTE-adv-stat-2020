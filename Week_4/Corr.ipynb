{
 "cells": [
  {
   "cell_type": "code",
   "execution_count": null,
   "metadata": {},
   "outputs": [],
   "source": [
    "import numpy as np\n",
    "import pandas as pd\n",
    "\n",
    "import seaborn as sns\n",
    "import matplotlib as mpl\n",
    "import matplotlib.cm as cm\n",
    "import matplotlib.pyplot as plt\n",
    "import matplotlib.colors as mcolors\n",
    "import matplotlib.patches as patches"
   ]
  },
  {
   "cell_type": "code",
   "execution_count": null,
   "metadata": {},
   "outputs": [],
   "source": [
    "# Set axtick dimensions\n",
    "major_size = 6\n",
    "major_width = 1.2\n",
    "minor_size = 3\n",
    "minor_width = 1\n",
    "mpl.rcParams['xtick.major.size'] = major_size\n",
    "mpl.rcParams['xtick.major.width'] = major_width\n",
    "mpl.rcParams['xtick.minor.size'] = minor_size\n",
    "mpl.rcParams['xtick.minor.width'] = minor_width\n",
    "mpl.rcParams['ytick.major.size'] = major_size\n",
    "mpl.rcParams['ytick.major.width'] = major_width\n",
    "mpl.rcParams['ytick.minor.size'] = minor_size\n",
    "mpl.rcParams['ytick.minor.width'] = minor_width\n",
    "\n",
    "# Seaborn style settings\n",
    "seaborn_cmap = sns.cubehelix_palette(as_cmap=True, dark=0, light=1, reverse=True)\n",
    "\n",
    "sns.set_style({'axes.axisbelow': True,\n",
    "               'axes.edgecolor': '.8',\n",
    "               'axes.facecolor': 'white',\n",
    "               'axes.grid': True,\n",
    "               'axes.labelcolor': '.15',\n",
    "               'axes.spines.bottom': True,\n",
    "               'axes.spines.left': True,\n",
    "               'axes.spines.right': True,\n",
    "               'axes.spines.top': True,\n",
    "               'figure.facecolor': 'white',\n",
    "               'font.family': ['sans-serif'],\n",
    "               'font.sans-serif': ['Arial',\n",
    "                'DejaVu Sans',\n",
    "                'Liberation Sans',\n",
    "                'Bitstream Vera Sans',\n",
    "                'sans-serif'],\n",
    "               'grid.color': '.8',\n",
    "               'grid.linestyle': '--',\n",
    "               'image.cmap': 'rocket',\n",
    "               'lines.solid_capstyle': 'round',\n",
    "               'patch.edgecolor': 'w',\n",
    "               'patch.force_edgecolor': True,\n",
    "               'text.color': '.15',\n",
    "               'xtick.bottom': True,\n",
    "               'xtick.color': '.15',\n",
    "               'xtick.direction': 'in',\n",
    "               'xtick.top': True,\n",
    "               'ytick.color': '.15',\n",
    "               'ytick.direction': 'in',\n",
    "               'ytick.left': True,\n",
    "               'ytick.right': True})"
   ]
  },
  {
   "cell_type": "markdown",
   "metadata": {},
   "source": [
    "## Covariance and correlation"
   ]
  },
  {
   "cell_type": "markdown",
   "metadata": {},
   "source": [
    "Let us calculate the covariance and correlation for real data using Pandas. First we specify the data file name and have a \"peek\" at the data frame:"
   ]
  },
  {
   "cell_type": "code",
   "execution_count": null,
   "metadata": {},
   "outputs": [],
   "source": [
    "data_file = 'ASC_cg_export.tsv'\n",
    "df = pd.read_csv(data_file,sep = '\\t', low_memory=False)\n",
    "\n",
    "df"
   ]
  },
  {
   "cell_type": "markdown",
   "metadata": {},
   "source": [
    "Let's check the column names:"
   ]
  },
  {
   "cell_type": "code",
   "execution_count": null,
   "metadata": {},
   "outputs": [],
   "source": [
    "columns = df.columns[1:]"
   ]
  },
  {
   "cell_type": "markdown",
   "metadata": {},
   "source": [
    "Before actually calculating the variance-covariance matrix, let's simply look at scatter plots, where we plot the value in a given column as a function of the value in another column."
   ]
  },
  {
   "cell_type": "code",
   "execution_count": null,
   "metadata": {},
   "outputs": [],
   "source": [
    "nrows = 1\n",
    "ncols = 1\n",
    "fig, axes = plt.subplots(nrows=nrows, ncols=ncols, figsize=(ncols*8, nrows*8),\n",
    "                         facecolor='black', subplot_kw=dict(facecolor='black'))\n",
    "\n",
    "axistitlesize = 16\n",
    "axislabelsize = 16\n",
    "axisticksize = 14\n",
    "sradius = 10\n",
    "\n",
    "axes.scatter(df['cg00510787'], df['cg03169527'],\n",
    "             c='tab:blue', s=sradius**2, alpha=0.4)\n",
    "\n",
    "axes.set_title('Peek data', fontsize=axistitlesize, fontweight='bold', color='w')\n",
    "axes.set_xlabel('cg00510787', fontsize=axislabelsize, color='w')\n",
    "axes.set_ylabel('cg03169527', fontsize=axislabelsize, color='w')\n",
    "axes.tick_params(axis='both', which='major', labelsize=axisticksize, colors='w')\n",
    "\n",
    "axes.set_xlim(0,1)\n",
    "axes.set_ylim(0,1)\n",
    "\n",
    "plt.show()"
   ]
  },
  {
   "cell_type": "markdown",
   "metadata": {},
   "source": [
    "Now create a grid of scatter plots as the figure indicates. Try to set the axis labels from the dataset."
   ]
  },
  {
   "cell_type": "code",
   "execution_count": null,
   "metadata": {},
   "outputs": [],
   "source": [
    "nrows = len(columns) - 1\n",
    "ncols = len(columns) - 1\n",
    "fig, axes = plt.subplots(nrows=nrows, ncols=ncols, figsize=(ncols*8, nrows*8),\n",
    "                         facecolor='black', subplot_kw=dict(facecolor='black'))\n",
    "\n",
    "axistitlesize = 16\n",
    "axislabelsize = 16\n",
    "axisticksize = 14\n",
    "sradius = 10\n",
    "\n",
    "for i, row in enumerate(columns[:-1]):\n",
    "    for j, col in enumerate(columns[1:]):\n",
    "        if j >= i:\n",
    "            axes[i][j].scatter(df[row], df[col],\n",
    "                               c='tab:blue', s=sradius**2, alpha=0.4)\n",
    "\n",
    "            axes[i][j].set_title('Peek data', fontsize=axistitlesize, fontweight='bold', color='w')\n",
    "            axes[i][j].set_xlabel(row, fontsize=axislabelsize, color='w')\n",
    "            axes[i][j].set_ylabel(col, fontsize=axislabelsize, color='w')\n",
    "            axes[i][j].tick_params(axis='both', which='major', labelsize=axisticksize, colors='w')\n",
    "\n",
    "            axes[i][j].set_xlim(0,1)\n",
    "            axes[i][j].set_ylim(0,1)\n",
    "        else:\n",
    "            axes[i][j].axis('off')\n",
    "\n",
    "plt.show()"
   ]
  },
  {
   "cell_type": "markdown",
   "metadata": {},
   "source": [
    "Let's now calculate the co-variance and the correlation matrices."
   ]
  },
  {
   "cell_type": "code",
   "execution_count": null,
   "metadata": {},
   "outputs": [],
   "source": [
    "YOUR CODE for covariance"
   ]
  },
  {
   "cell_type": "code",
   "execution_count": null,
   "metadata": {},
   "outputs": [],
   "source": [
    "\"your code for correlation: what do you expect in the diagonal\""
   ]
  },
  {
   "cell_type": "markdown",
   "metadata": {},
   "source": [
    "Of course, covariance can be calculated also in numpy. To test this, let us first generate a multinomial data set. First we define the parameters of multinomial distribution, $N$ and a couple of $p_i$, where $\\sum_i p_i=1$."
   ]
  },
  {
   "cell_type": "code",
   "execution_count": null,
   "metadata": {},
   "outputs": [],
   "source": [
    "N_mn = YOUR_CODE\n",
    "p_mn = YOUR_CODE # set a list of likelihoods, eg. 4 probabilities\n",
    "print(sum(p_mn))"
   ]
  },
  {
   "cell_type": "code",
   "execution_count": null,
   "metadata": {},
   "outputs": [],
   "source": [
    "multinom_data = YOUR_CODE_FOR_LIST_OF_RANDOM_MULTINOMIAL_DATA, use the built in routines from numpy\n",
    "#print(multinom_data);"
   ]
  },
  {
   "cell_type": "code",
   "execution_count": null,
   "metadata": {},
   "outputs": [],
   "source": [
    "multinom_cov_matr = np.cov(np.transpose(multinom_data));\n",
    "multinom_cov_matr"
   ]
  },
  {
   "cell_type": "markdown",
   "metadata": {},
   "source": [
    "As a comparison, let's also calculate the theoretical variance-covariance matrix."
   ]
  },
  {
   "cell_type": "code",
   "execution_count": null,
   "metadata": {},
   "outputs": [],
   "source": [
    "theor_cov_matr = [[list_of_lists]] # lookup the formulae in wikipedia\n",
    "for line in theor_cov_matr:\n",
    "    print(line);"
   ]
  },
  {
   "cell_type": "markdown",
   "metadata": {},
   "source": [
    "# Inequalities"
   ]
  },
  {
   "cell_type": "markdown",
   "metadata": {},
   "source": [
    "Let us assume IID Bernoulli random variables such as coin flips, where we do not know the parameter $p$, and only have access to the generated sample.\n",
    "\n",
    "Our best guess (estimate) for $p$ based on the observed data is given by\n",
    "\n",
    "$$\n",
    "\\widehat{p} = \\overline{X_n}\n",
    "=\n",
    "\\frac{1}{n}\\sum_{i=1}^{n} x_i.\n",
    "$$\n",
    "\n",
    "Hoeffding's inequality states that as $n$ is increased, this estimate is getting exponentialy close to the true value of $p$, since\n",
    "\n",
    "$$\n",
    "P \\left( \\left| \\overline{X_{n}} - p \\right| \\geq \\epsilon \\right)\n",
    "\\leq\n",
    "2 e^{-2n \\epsilon^{2}} = \\alpha.\n",
    "$$\n",
    "\n",
    "Based on that we can construct an interval (called confidence interval) around the estimate $\\widehat{p}=\\overline{X_n}$ for which we can write down a guaranteed lower bound on the probability that the true $p$ falls within the interval. \n",
    "\n",
    "Let us choose the guaranteed lower bound as $1-\\alpha$, where $\\alpha$ is a parameter. For a fixed $\\alpha$, the interval can be given as $\\left[ X_{n} - \\epsilon , X_{n} + \\epsilon \\right]$ where  \n",
    "\n",
    "$$\n",
    "\\epsilon = \\sqrt{\\frac{1}{2n} \\ln\\left( \\frac{2}{\\alpha} \\right)}, \\nonumber\n",
    "$$\n",
    "\n",
    "and in such a setting find the formula for the probability, that the interval covers the $p$ value.\n",
    "\n",
    "$$\n",
    "P ....\n",
    "$$"
   ]
  },
  {
   "cell_type": "markdown",
   "metadata": {},
   "source": [
    "Let us test this by actually generating Bernoulli random variables and measuring the **coverage** of the above interval, where coverage is the ratio of experiments where the true $p$ did fall into the interval."
   ]
  },
  {
   "cell_type": "markdown",
   "metadata": {},
   "source": [
    "First, we define the parameters."
   ]
  },
  {
   "cell_type": "code",
   "execution_count": null,
   "metadata": {},
   "outputs": [],
   "source": [
    "p_true = 0.4        # The p parameter of the Bernoulli distribution\n",
    "num_flips = 50      # The number of data points in one experiment\n",
    "num_series = 1000   # The number of experiments\n",
    "alpha = 0.05"
   ]
  },
  {
   "cell_type": "markdown",
   "metadata": {},
   "source": [
    "Let's just try out generating a small sample."
   ]
  },
  {
   "cell_type": "code",
   "execution_count": null,
   "metadata": {},
   "outputs": [],
   "source": [
    "Bernoulli_samp = np.random.binomial(n=1, p=p_true, size=num_flips) # use numpy!\n",
    "print(Bernoulli_samp)"
   ]
  },
  {
   "cell_type": "markdown",
   "metadata": {},
   "source": [
    "OK, it seems working, let's now generate the longer samples."
   ]
  },
  {
   "cell_type": "code",
   "execution_count": null,
   "metadata": {},
   "outputs": [],
   "source": [
    "B_series = np.array([np.random.binomial(n=1, p=p_true, size=num_flips) for i in range(num_series)])"
   ]
  },
  {
   "cell_type": "markdown",
   "metadata": {},
   "source": [
    "And finally let's see how does the coverage depend on the number of flips. "
   ]
  },
  {
   "cell_type": "code",
   "execution_count": null,
   "metadata": {},
   "outputs": [],
   "source": [
    "epsilon_list = np.zeros(num_flips)\n",
    "cover_list = np.zeros(num_flips)\n",
    "\n",
    "for n in range(1, num_flips):\n",
    "    epsilon = np.sqrt(1/(2*n) * np.log(2/alpha))\n",
    "    epsilon_list[n-1] = epsilon\n",
    "\n",
    "    cover_indicator = [1 if p_true-n.mean(b_s[:n]) for b_s in B_series]\n",
    "    coverage = YOUR_CODE\n",
    "    cover_list[n-1] = coverage  \n",
    "    #print('n=',n,'coverage=',coverage)"
   ]
  },
  {
   "cell_type": "code",
   "execution_count": null,
   "metadata": {},
   "outputs": [],
   "source": [
    "plt.clf();\n",
    "x_list = range(1,len(cover_list)+1);\n",
    "plt.plot(x_list,cover_list);\n",
    "plt.ylim(0.99,1.01);\n",
    "plt.xlabel('num. flips');\n",
    "plt.ylabel('coverage in '+str(num_series)+' series');\n",
    "plt.show();"
   ]
  },
  {
   "cell_type": "code",
   "execution_count": null,
   "metadata": {},
   "outputs": [],
   "source": []
  }
 ],
 "metadata": {
  "hide_input": false,
  "kernelspec": {
   "display_name": "Python 3 (ipykernel)",
   "language": "python",
   "name": "python3"
  },
  "language_info": {
   "codemirror_mode": {
    "name": "ipython",
    "version": 3
   },
   "file_extension": ".py",
   "mimetype": "text/x-python",
   "name": "python",
   "nbconvert_exporter": "python",
   "pygments_lexer": "ipython3",
   "version": "3.9.10"
  },
  "latex_envs": {
   "LaTeX_envs_menu_present": true,
   "autoclose": false,
   "autocomplete": true,
   "bibliofile": "biblio.bib",
   "cite_by": "apalike",
   "current_citInitial": 1,
   "eqLabelWithNumbers": true,
   "eqNumInitial": 1,
   "hotkeys": {
    "equation": "Ctrl-E",
    "itemize": "Ctrl-I"
   },
   "labels_anchors": false,
   "latex_user_defs": false,
   "report_style_numbering": false,
   "user_envs_cfg": false
  }
 },
 "nbformat": 4,
 "nbformat_minor": 4
}
